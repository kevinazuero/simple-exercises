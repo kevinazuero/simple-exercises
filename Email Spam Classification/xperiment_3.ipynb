{
 "cells": [
  {
   "cell_type": "code",
   "execution_count": 71,
   "id": "c7639783-dc65-4a21-9ca7-fd4eae793ea6",
   "metadata": {},
   "outputs": [],
   "source": [
    "import pandas as pd\n",
    "from sklearn.feature_extraction.text import CountVectorizer\n",
    "import numpy as np\n",
    "from sklearn.model_selection import train_test_split\n",
    "from sklearn.pipeline import Pipeline\n",
    "from sklearn.feature_extraction.text import TfidfVectorizer\n",
    "from sklearn.naive_bayes import MultinomialNB\n",
    "from sklearn.metrics import classification_report, confusion_matrix\n",
    "from sklearn.svm import LinearSVC\n",
    "from sklearn.model_selection import GridSearchCV\n",
    "import re\n",
    "import seaborn as sns\n",
    "import matplotlib.pyplot as plt\n",
    "from sklearn.base import BaseEstimator, TransformerMixin\n",
    "from sklearn.pipeline import Pipeline, FeatureUnion\n",
    "from sklearn.ensemble import RandomForestClassifier\n",
    "from sklearn.preprocessing import StandardScaler\n",
    "from sklearn.compose import ColumnTransformer"
   ]
  },
  {
   "cell_type": "code",
   "execution_count": 33,
   "id": "061e028b-42e8-4cde-b2c3-a7f451842b90",
   "metadata": {},
   "outputs": [],
   "source": [
    "class SpamFeaturesExtractor(BaseEstimator, TransformerMixin):\n",
    "    def __init__(self, spam_words=None):\n",
    "        # Array de top palabras spam\n",
    "        if spam_words is None:\n",
    "            spam_words = []\n",
    "        self.spam_words = spam_words\n",
    "        # símbolos de moneda populares\n",
    "        self.currency_symbols = set(['$', '€', '£', '¥'])\n",
    "\n",
    "    def fit(self, X, y=None):\n",
    "        # Nada que ajustar, solo para cumplir interfaz sklearn\n",
    "        return self\n",
    "\n",
    "    def transform(self, X):\n",
    "        features = []\n",
    "        for msg in X:\n",
    "            words = msg.split()\n",
    "            \n",
    "            # 1. Número de palabras repetidas en el mensaje\n",
    "            word_counts = {}\n",
    "            for w in words:\n",
    "                word_counts[w.lower()] = word_counts.get(w.lower(), 0) + 1\n",
    "            repeated_words = sum(1 for c in word_counts.values() if c > 1)\n",
    "\n",
    "            # 2. Longitud del mensaje (número de palabras)\n",
    "            msg_length = len(words)\n",
    "\n",
    "            # 3. Contiene % o símbolo de moneda (booleano → 0/1)\n",
    "            has_symbol = int(('%' in msg) or any(s in msg for s in self.currency_symbols))\n",
    "\n",
    "            # 4. Porcentaje de palabras en mayúsculas\n",
    "            if msg_length > 0:\n",
    "                uppercase_pct = sum(1 for w in words if w.isupper()) / msg_length\n",
    "            else:\n",
    "                uppercase_pct = 0.0\n",
    "\n",
    "            # 5. Número de palabras que estén en la lista de spam_words\n",
    "            spam_word_count = sum(1 for w in words if w.lower() in self.spam_words)\n",
    "\n",
    "            features.append([repeated_words, msg_length, has_symbol,\n",
    "                             uppercase_pct, spam_word_count])\n",
    "        \n",
    "        return np.array(features)\n"
   ]
  },
  {
   "cell_type": "code",
   "execution_count": 2,
   "id": "03f10947-fe51-487b-8414-eb0f1542067b",
   "metadata": {},
   "outputs": [],
   "source": [
    "def clean_text(s):\n",
    "    s = str(s).lower()\n",
    "    s = re.sub(r'<[^>]+>', ' ', s)           # quitar HTML\n",
    "    s = re.sub(r'http\\S+|www\\.\\S+', ' <URL> ', s)  # URLs -> token\n",
    "    s = re.sub(r'\\d{2,}', ' <NUM> ', s)     # números largos -> token\n",
    "    s = re.sub(r'[^a-zA-Z0-9<> ]', ' ', s)  # quitar puntuación (simple)\n",
    "    s = re.sub(r'\\s+', ' ', s).strip()\n",
    "    return s"
   ]
  },
  {
   "cell_type": "markdown",
   "id": "319aa169-ac98-4553-9a0c-b238b9be8ed8",
   "metadata": {},
   "source": [
    "## get dataset"
   ]
  },
  {
   "cell_type": "code",
   "execution_count": 5,
   "id": "f362926c-ef0b-43c8-bad5-a623f6472680",
   "metadata": {},
   "outputs": [],
   "source": [
    "path_data = \"dataset/spam.csv\"\n",
    "test_data = \"dataset/spam_or_not_spam.csv\""
   ]
  },
  {
   "cell_type": "code",
   "execution_count": 6,
   "id": "5806e18a-afde-452c-b733-9907cf27f4b6",
   "metadata": {},
   "outputs": [],
   "source": [
    "df = pd.read_csv(path_data)\n",
    "dt = pd.read_csv(test_data)"
   ]
  },
  {
   "cell_type": "code",
   "execution_count": 7,
   "id": "c0a90afa-95ff-4845-85b4-5c48d87a6e61",
   "metadata": {},
   "outputs": [
    {
     "data": {
      "text/html": [
       "<div>\n",
       "<style scoped>\n",
       "    .dataframe tbody tr th:only-of-type {\n",
       "        vertical-align: middle;\n",
       "    }\n",
       "\n",
       "    .dataframe tbody tr th {\n",
       "        vertical-align: top;\n",
       "    }\n",
       "\n",
       "    .dataframe thead th {\n",
       "        text-align: right;\n",
       "    }\n",
       "</style>\n",
       "<table border=\"1\" class=\"dataframe\">\n",
       "  <thead>\n",
       "    <tr style=\"text-align: right;\">\n",
       "      <th></th>\n",
       "      <th>Category</th>\n",
       "      <th>Message</th>\n",
       "    </tr>\n",
       "  </thead>\n",
       "  <tbody>\n",
       "    <tr>\n",
       "      <th>0</th>\n",
       "      <td>ham</td>\n",
       "      <td>Go until jurong point, crazy.. Available only ...</td>\n",
       "    </tr>\n",
       "    <tr>\n",
       "      <th>1</th>\n",
       "      <td>ham</td>\n",
       "      <td>Ok lar... Joking wif u oni...</td>\n",
       "    </tr>\n",
       "    <tr>\n",
       "      <th>2</th>\n",
       "      <td>spam</td>\n",
       "      <td>Free entry in 2 a wkly comp to win FA Cup fina...</td>\n",
       "    </tr>\n",
       "    <tr>\n",
       "      <th>3</th>\n",
       "      <td>ham</td>\n",
       "      <td>U dun say so early hor... U c already then say...</td>\n",
       "    </tr>\n",
       "    <tr>\n",
       "      <th>4</th>\n",
       "      <td>ham</td>\n",
       "      <td>Nah I don't think he goes to usf, he lives aro...</td>\n",
       "    </tr>\n",
       "  </tbody>\n",
       "</table>\n",
       "</div>"
      ],
      "text/plain": [
       "  Category                                            Message\n",
       "0      ham  Go until jurong point, crazy.. Available only ...\n",
       "1      ham                      Ok lar... Joking wif u oni...\n",
       "2     spam  Free entry in 2 a wkly comp to win FA Cup fina...\n",
       "3      ham  U dun say so early hor... U c already then say...\n",
       "4      ham  Nah I don't think he goes to usf, he lives aro..."
      ]
     },
     "execution_count": 7,
     "metadata": {},
     "output_type": "execute_result"
    }
   ],
   "source": [
    "df.head()"
   ]
  },
  {
   "cell_type": "code",
   "execution_count": 8,
   "id": "fc1de729-f9bf-4deb-a329-d1fa92ec75a3",
   "metadata": {},
   "outputs": [],
   "source": [
    "cols = dt.columns.str.lower()\n",
    "if 'email' in cols:\n",
    "    dt = dt.rename(columns={dt.columns[cols.tolist().index('email')]: 'message',})\n",
    "else:\n",
    "    # si no, inspecciona manualmente (muestra primeros 5 columnas)\n",
    "    print(\"Revisa los nombres de columnas. Aquí un ejemplo:\")\n",
    "    display(df.head())"
   ]
  },
  {
   "cell_type": "code",
   "execution_count": 9,
   "id": "e0d23326-e0bf-4991-a12a-187167b4e2ce",
   "metadata": {},
   "outputs": [
    {
     "data": {
      "text/plain": [
       "Category\n",
       "ham     4825\n",
       "spam     747\n",
       "Name: count, dtype: int64"
      ]
     },
     "execution_count": 9,
     "metadata": {},
     "output_type": "execute_result"
    }
   ],
   "source": [
    "df[\"Category\"].value_counts()"
   ]
  },
  {
   "cell_type": "code",
   "execution_count": 10,
   "id": "e3979d81-8946-44ed-8b6e-265f015a5ab0",
   "metadata": {},
   "outputs": [
    {
     "name": "stdout",
     "output_type": "stream",
     "text": [
      "Top palabras para 'ham':\n",
      "['gt' 'lt' 'just' 'ok' 'll' 'ur' 'know' 'good' 'like' 'got' 'come' 'day'\n",
      " 'love' 'time' 'going' 'want' 'home' 'lor' 'need' 'don']\n",
      "\n",
      "Top palabras para 'spam':\n",
      "['free' 'txt' 'ur' 'mobile' 'text' 'stop' 'claim' 'reply' 'www' 'prize'\n",
      " 'just' 'cash' 'uk' 'won' '150p' 'send' 'new' 'nokia' 'win' 'urgent']\n",
      "\n"
     ]
    }
   ],
   "source": [
    "for label in df['Category'].unique():\n",
    "    textos = df[df['Category'] == label]['Message'].astype(str)\n",
    "    cv = CountVectorizer(stop_words='english', min_df=2)\n",
    "    Xc = cv.fit_transform(textos)\n",
    "    words = np.array(cv.get_feature_names_out())\n",
    "    sums = Xc.toarray().sum(axis=0)\n",
    "    top_idx = sums.argsort()[::-1][:20]\n",
    "    print(f\"Top palabras para '{label}':\")\n",
    "    print(words[top_idx])\n",
    "    print()"
   ]
  },
  {
   "cell_type": "code",
   "execution_count": 26,
   "id": "673e29f9-5d12-4912-8501-2b1f6a62879e",
   "metadata": {},
   "outputs": [],
   "source": [
    "spam_words = ['free', 'txt', 'ur', 'mobile', 'text', 'stop', 'claim', 'reply', 'www', 'prize',\n",
    " 'just', 'cash', 'uk', 'won', '150p', 'send', 'new', 'nokia', 'win', 'urgent']"
   ]
  },
  {
   "cell_type": "markdown",
   "id": "4c7e4bc4-e46b-4637-a72c-d4afa3222a24",
   "metadata": {},
   "source": [
    "## transforming data"
   ]
  },
  {
   "cell_type": "code",
   "execution_count": 11,
   "id": "32bf89db-d2be-40fe-bca0-0879b2405c9c",
   "metadata": {},
   "outputs": [],
   "source": [
    "# ejemplo robusto: detectar columnas probables\n",
    "\n",
    "cols = df.columns.str.lower()\n",
    "if 'message' in cols and 'category' in cols:\n",
    "    df = df.rename(columns={df.columns[cols.tolist().index('message')]: 'message',\n",
    "                            df.columns[cols.tolist().index('category')]: 'label'})\n",
    "else:\n",
    "    # si no, inspecciona manualmente (muestra primeros 5 columnas)\n",
    "    print(\"Revisa los nombres de columnas. Aquí un ejemplo:\")\n",
    "    display(df.head())"
   ]
  },
  {
   "cell_type": "code",
   "execution_count": 12,
   "id": "e423beb2-37d4-4919-93f5-17fad7e4e0d3",
   "metadata": {},
   "outputs": [
    {
     "name": "stdout",
     "output_type": "stream",
     "text": [
      "        count       mean        std  min    25%    50%    75%    max\n",
      "label                                                               \n",
      "ham    4825.0   71.44829  58.434864  2.0   33.0   52.0   93.0  910.0\n",
      "spam    747.0  137.98929  29.980287  7.0  132.0  149.0  157.0  223.0\n"
     ]
    }
   ],
   "source": [
    "df['msg_len'] = df['message'].str.len()\n",
    "print(df.groupby('label')['msg_len'].describe())"
   ]
  },
  {
   "cell_type": "code",
   "execution_count": 13,
   "id": "ac64381c-f600-48b2-b7cb-88b27d6bafe3",
   "metadata": {},
   "outputs": [],
   "source": [
    "df['message_clean'] = df['message'].apply(clean_text)"
   ]
  },
  {
   "cell_type": "code",
   "execution_count": 14,
   "id": "c5f5445d-a017-461f-9975-15af95742e19",
   "metadata": {},
   "outputs": [],
   "source": [
    "df['label'] = df['label'].map({'ham': 0, 'spam': 1})"
   ]
  },
  {
   "cell_type": "code",
   "execution_count": 15,
   "id": "593cc176-04e7-4158-882c-f4158fa8e31c",
   "metadata": {},
   "outputs": [],
   "source": [
    "test_x = dt['message']\n",
    "test_y = dt[\"label\"]"
   ]
  },
  {
   "cell_type": "code",
   "execution_count": 43,
   "id": "a047f70a-88ab-4332-abd6-0a2966202fc5",
   "metadata": {},
   "outputs": [
    {
     "data": {
      "text/plain": [
       "0        date wed NUMBER aug NUMBER NUMBER NUMBER NUMB...\n",
       "1       martin a posted tassos papadopoulos the greek ...\n",
       "2       man threatens explosion in moscow thursday aug...\n",
       "3       klez the virus that won t die already the most...\n",
       "4        in adding cream to spaghetti carbonara which ...\n",
       "                              ...                        \n",
       "2995     abc s good morning america ranks it the NUMBE...\n",
       "2996     hyperlink hyperlink hyperlink let mortgage le...\n",
       "2997     thank you for shopping with us gifts for all ...\n",
       "2998     the famous ebay marketing e course learn to s...\n",
       "2999     hello this is chinese traditional 子 件 NUMBER世...\n",
       "Name: message, Length: 3000, dtype: object"
      ]
     },
     "execution_count": 43,
     "metadata": {},
     "output_type": "execute_result"
    }
   ],
   "source": [
    "test_x"
   ]
  },
  {
   "cell_type": "code",
   "execution_count": 16,
   "id": "649fe07d-d658-4465-8e9c-c94430ebc60e",
   "metadata": {},
   "outputs": [],
   "source": [
    "X = df['message']\n",
    "y = df['label']\n",
    "\n",
    "# stratify para mantener proporciones ham/spam\n",
    "X_train, X_test, y_train, y_test = train_test_split(\n",
    "    X, y, test_size=0.2, random_state=42, stratify=y)"
   ]
  },
  {
   "cell_type": "markdown",
   "id": "2b76004d-d8ff-49e2-a3c8-f2a4fc0da934",
   "metadata": {},
   "source": [
    "## MultinomialNB train"
   ]
  },
  {
   "cell_type": "code",
   "execution_count": 34,
   "id": "1440ff3e-9732-4134-a49a-8eaf0846edfa",
   "metadata": {},
   "outputs": [],
   "source": [
    "combined_features = FeatureUnion([\n",
    "    (\"tfidf\", TfidfVectorizer(ngram_range=(1,2), min_df=2, max_df=0.95)),\n",
    "    (\"spam_feats\", SpamFeaturesExtractor(spam_words=spam_words))\n",
    "])"
   ]
  },
  {
   "cell_type": "code",
   "execution_count": 35,
   "id": "76bbd44f-f841-46a0-8072-a1766cbec187",
   "metadata": {},
   "outputs": [],
   "source": [
    "pipeline = Pipeline([\n",
    "    (\"features\", combined_features),\n",
    "    (\"clf\", MultinomialNB(alpha=0.1))\n",
    "])"
   ]
  },
  {
   "cell_type": "code",
   "execution_count": 50,
   "id": "42372f35-f450-4e47-afd7-1968242bbb9c",
   "metadata": {},
   "outputs": [
    {
     "name": "stdout",
     "output_type": "stream",
     "text": [
      "Fitting 5 folds for each of 24 candidates, totalling 120 fits\n",
      "Best params: {'clf__alpha': 0.01, 'features__tfidf__min_df': 1, 'features__tfidf__ngram_range': (1, 2)}\n",
      "              precision    recall  f1-score   support\n",
      "\n",
      "           0       0.99      1.00      0.99       966\n",
      "           1       0.97      0.93      0.95       149\n",
      "\n",
      "    accuracy                           0.99      1115\n",
      "   macro avg       0.98      0.96      0.97      1115\n",
      "weighted avg       0.99      0.99      0.99      1115\n",
      "\n"
     ]
    }
   ],
   "source": [
    "param_grid = {\n",
    "    'features__tfidf__ngram_range': [(1,1),(1,2)],\n",
    "    'features__tfidf__min_df': [1,2,3],\n",
    "    'clf__alpha': [0.01, 0.1, 0.5, 1.0]\n",
    "}\n",
    "\n",
    "gs = GridSearchCV(pipeline, param_grid, cv=5, scoring='f1_weighted', n_jobs=-1, verbose=1)\n",
    "gs.fit(X_train, y_train)\n",
    "\n",
    "print(\"Best params:\", gs.best_params_)\n",
    "best = gs.best_estimator_\n",
    "y_pred = best.predict(X_test)\n",
    "print(classification_report(y_test, y_pred))\n"
   ]
  },
  {
   "cell_type": "code",
   "execution_count": 51,
   "id": "04f4f85e-e2a0-4486-82cd-1e2a1aa12846",
   "metadata": {},
   "outputs": [
    {
     "name": "stdout",
     "output_type": "stream",
     "text": [
      "Confusion matrix:\n",
      " [[962   4]\n",
      " [ 11 138]]\n"
     ]
    }
   ],
   "source": [
    "print(\"Confusion matrix:\\n\", confusion_matrix(y_test, y_pred))"
   ]
  },
  {
   "cell_type": "code",
   "execution_count": 52,
   "id": "29fac5c9-7eee-4639-ab6a-09d914a3bf3f",
   "metadata": {},
   "outputs": [
    {
     "name": "stdout",
     "output_type": "stream",
     "text": [
      "0\n"
     ]
    }
   ],
   "source": [
    "print(test_x.isnull().sum())  # para ver cuántos Na"
   ]
  },
  {
   "cell_type": "code",
   "execution_count": 53,
   "id": "ed35fda6-bc7c-4bcf-bb30-54adc87892ce",
   "metadata": {},
   "outputs": [],
   "source": [
    "test_x = test_x.fillna(\"\")"
   ]
  },
  {
   "cell_type": "code",
   "execution_count": 54,
   "id": "69c90740-fb90-4895-8dc0-a23b62805f90",
   "metadata": {},
   "outputs": [
    {
     "name": "stdout",
     "output_type": "stream",
     "text": [
      "              precision    recall  f1-score   support\n",
      "\n",
      "           0       0.84      1.00      0.91      2500\n",
      "           1       0.79      0.05      0.10       500\n",
      "\n",
      "    accuracy                           0.84      3000\n",
      "   macro avg       0.81      0.52      0.50      3000\n",
      "weighted avg       0.83      0.84      0.78      3000\n",
      "\n"
     ]
    }
   ],
   "source": [
    "y_pred = best.predict(test_x)\n",
    "\n",
    "print(classification_report(test_y, y_pred))"
   ]
  },
  {
   "cell_type": "code",
   "execution_count": 56,
   "id": "14f235ce-ac1a-4995-995a-3dd44c07ec4f",
   "metadata": {},
   "outputs": [
    {
     "data": {
      "image/png": "[encoded data removed]",
      "text/plain": [
       "<Figure size 600x400 with 2 Axes>"
      ]
     },
     "metadata": {},
     "output_type": "display_data"
    }
   ],
   "source": [
    "cm = confusion_matrix(test_y, y_pred)\n",
    "labels = ['ham', 'spam']\n",
    "\n",
    "plt.figure(figsize=(6,4))\n",
    "sns.heatmap(cm, annot=True, fmt='d', xticklabels=labels, yticklabels=labels, cmap='Blues')\n",
    "plt.ylabel('Etiqueta Real')\n",
    "plt.xlabel('Etiqueta Predicha')\n",
    "plt.title('Matriz de Confusión')\n",
    "plt.show()"
   ]
  },
  {
   "cell_type": "code",
   "execution_count": 208,
   "id": "ee3c4f4f-456c-4773-bf18-d77eebb6e38d",
   "metadata": {},
   "outputs": [
    {
     "data": {
      "text/plain": [
       "0       0\n",
       "1       0\n",
       "2       0\n",
       "3       0\n",
       "4       0\n",
       "       ..\n",
       "2995    1\n",
       "2996    1\n",
       "2997    1\n",
       "2998    1\n",
       "2999    1\n",
       "Name: label, Length: 3000, dtype: int64"
      ]
     },
     "execution_count": 208,
     "metadata": {},
     "output_type": "execute_result"
    }
   ],
   "source": [
    "test_y"
   ]
  },
  {
   "cell_type": "code",
   "execution_count": 57,
   "id": "05d327a0-6763-4a93-b904-07d2c1c500f9",
   "metadata": {},
   "outputs": [
    {
     "data": {
      "image/png": "[encoded data removed]",
      "text/plain": [
       "<Figure size 600x600 with 1 Axes>"
      ]
     },
     "metadata": {},
     "output_type": "display_data"
    }
   ],
   "source": [
    "from sklearn.metrics import roc_curve, roc_auc_score\n",
    "import matplotlib.pyplot as plt\n",
    "\n",
    "#\n",
    "y_prob = best.predict_proba(test_x)[:, 1]  \n",
    "\n",
    "# Calcular puntos de la curva ROC\n",
    "fpr, tpr, thresholds = roc_curve(test_y, y_prob)\n",
    "\n",
    "# Calcular AUC (Area Under Curve)\n",
    "roc_auc = roc_auc_score(test_y, y_prob)\n",
    "\n",
    "# Graficar\n",
    "plt.figure(figsize=(6, 6))\n",
    "plt.plot(fpr, tpr, color='blue', lw=2, label=f'ROC curve (AUC = {roc_auc:.2f})')\n",
    "plt.plot([0, 1], [0, 1], color='gray', linestyle='--')  # línea aleatoria\n",
    "plt.xlabel('False Positive Rate')\n",
    "plt.ylabel('True Positive Rate')\n",
    "plt.title('Curva ROC')\n",
    "plt.legend(loc='lower right')\n",
    "plt.show()"
   ]
  },
  {
   "cell_type": "code",
   "execution_count": 65,
   "id": "9398de3c-5a8a-4093-927f-9627e1cb7d36",
   "metadata": {},
   "outputs": [
    {
     "data": {
      "text/plain": [
       "{'tfidf': TfidfVectorizer(max_df=0.95, min_df=2, ngram_range=(1, 2)),\n",
       " 'clf': MultinomialNB(alpha=0.1)}"
      ]
     },
     "execution_count": 65,
     "metadata": {},
     "output_type": "execute_result"
    }
   ],
   "source": [
    "best.named_steps"
   ]
  },
  {
   "cell_type": "markdown",
   "id": "890d1625-0fcf-4f6c-bd09-bee1f40a6e20",
   "metadata": {
    "jp-MarkdownHeadingCollapsed": true
   },
   "source": [
    "## Suport Vector Machine"
   ]
  },
  {
   "cell_type": "code",
   "execution_count": 58,
   "id": "d5f47de7-769a-4e86-b9cd-4145f643982b",
   "metadata": {},
   "outputs": [],
   "source": [
    "combined_features = FeatureUnion([\n",
    "    (\"tfidf\", TfidfVectorizer()),\n",
    "    (\"spam_feats\", SpamFeaturesExtractor(spam_words=spam_words))\n",
    "])"
   ]
  },
  {
   "cell_type": "code",
   "execution_count": 59,
   "id": "db4785f7-d714-430e-bf29-c9f3e15a1d93",
   "metadata": {},
   "outputs": [],
   "source": [
    "pipeline = Pipeline([\n",
    "    (\"features\", combined_features),\n",
    "    ('clf', LinearSVC(max_iter=5000))\n",
    "])"
   ]
  },
  {
   "cell_type": "code",
   "execution_count": 60,
   "id": "b8dd4f35-eb20-49a0-8e2a-a3a702f08d8f",
   "metadata": {},
   "outputs": [],
   "source": [
    "param_grid = {\n",
    "    'features__tfidf__ngram_range': [(1,1), (1,2)],\n",
    "    'features__tfidf__min_df': [1, 2, 3],\n",
    "    'features__tfidf__max_df': [0.9, 0.95, 1.0],\n",
    "    'features__tfidf__stop_words': [None, 'english'],\n",
    "    'clf__C': [0.01, 0.1, 1, 10]\n",
    "}\n"
   ]
  },
  {
   "cell_type": "code",
   "execution_count": 62,
   "id": "a307d8a5-9c76-4e2b-8041-68785b7f08f3",
   "metadata": {},
   "outputs": [
    {
     "name": "stdout",
     "output_type": "stream",
     "text": [
      "Fitting 5 folds for each of 144 candidates, totalling 720 fits\n",
      "Mejores parámetros: {'clf__C': 10, 'features__tfidf__max_df': 0.95, 'features__tfidf__min_df': 2, 'features__tfidf__ngram_range': (1, 2), 'features__tfidf__stop_words': None}\n",
      "Mejor score: 0.9890793626075378\n"
     ]
    },
    {
     "name": "stderr",
     "output_type": "stream",
     "text": [
      "\\\\?\\C:\\Users\\Home\\AppData\\Roaming\\jupyterlab-desktop\\jlab_server\\Lib\\site-packages\\sklearn\\svm\\_base.py:1249: ConvergenceWarning: Liblinear failed to converge, increase the number of iterations.\n",
      "  warnings.warn(\n"
     ]
    }
   ],
   "source": [
    "gs = GridSearchCV(pipeline, param_grid, cv=5, scoring='f1_weighted', n_jobs=-1, verbose=2)\n",
    "gs.fit(X_train, y_train)\n",
    "\n",
    "print(\"Mejores parámetros:\", gs.best_params_)\n",
    "print(\"Mejor score:\", gs.best_score_)"
   ]
  },
  {
   "cell_type": "code",
   "execution_count": 63,
   "id": "962accda-c1f9-48be-a48b-d4ed4c0d8f74",
   "metadata": {},
   "outputs": [
    {
     "name": "stdout",
     "output_type": "stream",
     "text": [
      "              precision    recall  f1-score   support\n",
      "\n",
      "           0       0.93      0.47      0.62      2500\n",
      "           1       0.24      0.82      0.37       500\n",
      "\n",
      "    accuracy                           0.53      3000\n",
      "   macro avg       0.58      0.65      0.50      3000\n",
      "weighted avg       0.81      0.53      0.58      3000\n",
      "\n"
     ]
    }
   ],
   "source": [
    "y_pred = gs.predict(test_x)\n",
    "from sklearn.metrics import classification_report\n",
    "print(classification_report(test_y, y_pred))"
   ]
  },
  {
   "cell_type": "code",
   "execution_count": 64,
   "id": "70b47f53-7a86-4354-ba12-7c038931cbd9",
   "metadata": {},
   "outputs": [
    {
     "data": {
      "image/png": "[encoded data removed]",
      "text/plain": [
       "<Figure size 600x400 with 2 Axes>"
      ]
     },
     "metadata": {},
     "output_type": "display_data"
    }
   ],
   "source": [
    "cm = confusion_matrix(test_y, y_pred)\n",
    "labels = ['ham', 'spam']\n",
    "\n",
    "plt.figure(figsize=(6,4))\n",
    "sns.heatmap(cm, annot=True, fmt='d', xticklabels=labels, yticklabels=labels, cmap='Blues')\n",
    "plt.ylabel('Etiqueta Real')\n",
    "plt.xlabel('Etiqueta Predicha')\n",
    "plt.title('Matriz de Confusión')\n",
    "plt.show()"
   ]
  },
  {
   "cell_type": "code",
   "execution_count": 65,
   "id": "ffd7caff-2c29-4e4f-9147-e0a945fa81bf",
   "metadata": {},
   "outputs": [
    {
     "name": "stdout",
     "output_type": "stream",
     "text": [
      "              precision    recall  f1-score   support\n",
      "\n",
      "           0       0.93      0.47      0.62      2500\n",
      "           1       0.24      0.82      0.37       500\n",
      "\n",
      "    accuracy                           0.53      3000\n",
      "   macro avg       0.58      0.65      0.50      3000\n",
      "weighted avg       0.81      0.53      0.58      3000\n",
      "\n"
     ]
    }
   ],
   "source": [
    "y_pred = gs.predict(test_x)\n",
    "\n",
    "print(classification_report(test_y, y_pred))"
   ]
  },
  {
   "cell_type": "markdown",
   "id": "0bc2764c-9d2c-4825-80ca-c9fdedb1c8ce",
   "metadata": {},
   "source": [
    "# Random Forest"
   ]
  },
  {
   "cell_type": "code",
   "execution_count": 72,
   "id": "4559ac41-074b-49c7-84ce-7a5bd465d931",
   "metadata": {},
   "outputs": [],
   "source": [
    "pipeline = Pipeline([\n",
    "    (\"features\", combined_features),\n",
    "    ('clf', RandomForestClassifier(random_state=42, n_jobs=-1))\n",
    "])"
   ]
  },
  {
   "cell_type": "code",
   "execution_count": 73,
   "id": "fb4ef336-fe51-4df2-a02b-c9b591436c3a",
   "metadata": {},
   "outputs": [],
   "source": [
    "param_grid = {\n",
    "    'features__tfidf__ngram_range': [(1,1), (1,2)],\n",
    "    'features__tfidf__min_df': [1, 2, 3],\n",
    "    'features__tfidf__max_df': [0.9, 0.95],\n",
    "    'features__tfidf__stop_words': [None, 'english'],\n",
    "    'clf__n_estimators': [100, 300, 500],\n",
    "    'clf__max_depth': [None, 20, 50],\n",
    "    'clf__min_samples_split': [2, 5, 10],\n",
    "    'clf__min_samples_leaf': [1, 2, 5],\n",
    "    'clf__max_features': ['sqrt', 'log2'],\n",
    "    'clf__class_weight': [None, 'balanced']\n",
    "}"
   ]
  },
  {
   "cell_type": "code",
   "execution_count": 74,
   "id": "ea413118-822e-444a-94da-6d763d50d061",
   "metadata": {
    "collapsed": true,
    "jupyter": {
     "outputs_hidden": true
    }
   },
   "outputs": [
    {
     "name": "stdout",
     "output_type": "stream",
     "text": [
      "Fitting 5 folds for each of 7776 candidates, totalling 38880 fits\n"
     ]
    },
    {
     "ename": "OSError",
     "evalue": "[Errno 22] Invalid argument",
     "output_type": "error",
     "traceback": [
      "\u001b[1;31m---------------------------------------------------------------------------\u001b[0m",
      "\u001b[1;31m_RemoteTraceback\u001b[0m                          Traceback (most recent call last)",
      "\u001b[1;31m_RemoteTraceback\u001b[0m: \n\"\"\"\nTraceback (most recent call last):\n  File \"\\\\?\\C:\\Users\\Home\\AppData\\Roaming\\jupyterlab-desktop\\jlab_server\\Lib\\site-packages\\joblib\\externals\\loky\\process_executor.py\", line 463, in _process_worker\n    r = call_item()\n        ^^^^^^^^^^^\n  File \"\\\\?\\C:\\Users\\Home\\AppData\\Roaming\\jupyterlab-desktop\\jlab_server\\Lib\\site-packages\\joblib\\externals\\loky\\process_executor.py\", line 291, in __call__\n    return self.fn(*self.args, **self.kwargs)\n           ^^^^^^^^^^^^^^^^^^^^^^^^^^^^^^^^^^\n  File \"\\\\?\\C:\\Users\\Home\\AppData\\Roaming\\jupyterlab-desktop\\jlab_server\\Lib\\site-packages\\joblib\\parallel.py\", line 598, in __call__\n    return [func(*args, **kwargs)\n            ^^^^^^^^^^^^^^^^^^^^^\n  File \"\\\\?\\C:\\Users\\Home\\AppData\\Roaming\\jupyterlab-desktop\\jlab_server\\Lib\\site-packages\\sklearn\\utils\\parallel.py\", line 139, in __call__\n    return self.function(*args, **kwargs)\n           ^^^^^^^^^^^^^^^^^^^^^^^^^^^^^^\n  File \"\\\\?\\C:\\Users\\Home\\AppData\\Roaming\\jupyterlab-desktop\\jlab_server\\Lib\\site-packages\\sklearn\\model_selection\\_validation.py\", line 920, in _fit_and_score\n    print(end_msg)\nOSError: [Errno 22] Invalid argument\n\"\"\"",
      "\nThe above exception was the direct cause of the following exception:\n",
      "\u001b[1;31mOSError\u001b[0m                                   Traceback (most recent call last)",
      "Cell \u001b[1;32mIn[74], line 2\u001b[0m\n\u001b[0;32m      1\u001b[0m gs \u001b[38;5;241m=\u001b[39m GridSearchCV(pipeline, param_grid, cv\u001b[38;5;241m=\u001b[39m\u001b[38;5;241m5\u001b[39m, scoring\u001b[38;5;241m=\u001b[39m\u001b[38;5;124m'\u001b[39m\u001b[38;5;124mf1_weighted\u001b[39m\u001b[38;5;124m'\u001b[39m, n_jobs\u001b[38;5;241m=\u001b[39m\u001b[38;5;241m-\u001b[39m\u001b[38;5;241m1\u001b[39m, verbose\u001b[38;5;241m=\u001b[39m\u001b[38;5;241m2\u001b[39m)\n\u001b[1;32m----> 2\u001b[0m \u001b[43mgs\u001b[49m\u001b[38;5;241;43m.\u001b[39;49m\u001b[43mfit\u001b[49m\u001b[43m(\u001b[49m\u001b[43mX_train\u001b[49m\u001b[43m,\u001b[49m\u001b[43m \u001b[49m\u001b[43my_train\u001b[49m\u001b[43m)\u001b[49m\n\u001b[0;32m      4\u001b[0m \u001b[38;5;28mprint\u001b[39m(\u001b[38;5;124m\"\u001b[39m\u001b[38;5;124mMejores parámetros:\u001b[39m\u001b[38;5;124m\"\u001b[39m, gs\u001b[38;5;241m.\u001b[39mbest_params_)\n\u001b[0;32m      5\u001b[0m \u001b[38;5;28mprint\u001b[39m(\u001b[38;5;124m\"\u001b[39m\u001b[38;5;124mMejor score:\u001b[39m\u001b[38;5;124m\"\u001b[39m, gs\u001b[38;5;241m.\u001b[39mbest_score_)\n",
      "File \u001b[1;32m\\\\?\\C:\\Users\\Home\\AppData\\Roaming\\jupyterlab-desktop\\jlab_server\\Lib\\site-packages\\sklearn\\base.py:1389\u001b[0m, in \u001b[0;36m_fit_context.<locals>.decorator.<locals>.wrapper\u001b[1;34m(estimator, *args, **kwargs)\u001b[0m\n\u001b[0;32m   1382\u001b[0m     estimator\u001b[38;5;241m.\u001b[39m_validate_params()\n\u001b[0;32m   1384\u001b[0m \u001b[38;5;28;01mwith\u001b[39;00m config_context(\n\u001b[0;32m   1385\u001b[0m     skip_parameter_validation\u001b[38;5;241m=\u001b[39m(\n\u001b[0;32m   1386\u001b[0m         prefer_skip_nested_validation \u001b[38;5;129;01mor\u001b[39;00m global_skip_validation\n\u001b[0;32m   1387\u001b[0m     )\n\u001b[0;32m   1388\u001b[0m ):\n\u001b[1;32m-> 1389\u001b[0m     \u001b[38;5;28;01mreturn\u001b[39;00m \u001b[43mfit_method\u001b[49m\u001b[43m(\u001b[49m\u001b[43mestimator\u001b[49m\u001b[43m,\u001b[49m\u001b[43m \u001b[49m\u001b[38;5;241;43m*\u001b[39;49m\u001b[43margs\u001b[49m\u001b[43m,\u001b[49m\u001b[43m \u001b[49m\u001b[38;5;241;43m*\u001b[39;49m\u001b[38;5;241;43m*\u001b[39;49m\u001b[43mkwargs\u001b[49m\u001b[43m)\u001b[49m\n",
      "File \u001b[1;32m\\\\?\\C:\\Users\\Home\\AppData\\Roaming\\jupyterlab-desktop\\jlab_server\\Lib\\site-packages\\sklearn\\model_selection\\_search.py:1024\u001b[0m, in \u001b[0;36mBaseSearchCV.fit\u001b[1;34m(self, X, y, **params)\u001b[0m\n\u001b[0;32m   1018\u001b[0m     results \u001b[38;5;241m=\u001b[39m \u001b[38;5;28mself\u001b[39m\u001b[38;5;241m.\u001b[39m_format_results(\n\u001b[0;32m   1019\u001b[0m         all_candidate_params, n_splits, all_out, all_more_results\n\u001b[0;32m   1020\u001b[0m     )\n\u001b[0;32m   1022\u001b[0m     \u001b[38;5;28;01mreturn\u001b[39;00m results\n\u001b[1;32m-> 1024\u001b[0m \u001b[38;5;28;43mself\u001b[39;49m\u001b[38;5;241;43m.\u001b[39;49m\u001b[43m_run_search\u001b[49m\u001b[43m(\u001b[49m\u001b[43mevaluate_candidates\u001b[49m\u001b[43m)\u001b[49m\n\u001b[0;32m   1026\u001b[0m \u001b[38;5;66;03m# multimetric is determined here because in the case of a callable\u001b[39;00m\n\u001b[0;32m   1027\u001b[0m \u001b[38;5;66;03m# self.scoring the return type is only known after calling\u001b[39;00m\n\u001b[0;32m   1028\u001b[0m first_test_score \u001b[38;5;241m=\u001b[39m all_out[\u001b[38;5;241m0\u001b[39m][\u001b[38;5;124m\"\u001b[39m\u001b[38;5;124mtest_scores\u001b[39m\u001b[38;5;124m\"\u001b[39m]\n",
      "File \u001b[1;32m\\\\?\\C:\\Users\\Home\\AppData\\Roaming\\jupyterlab-desktop\\jlab_server\\Lib\\site-packages\\sklearn\\model_selection\\_search.py:1571\u001b[0m, in \u001b[0;36mGridSearchCV._run_search\u001b[1;34m(self, evaluate_candidates)\u001b[0m\n\u001b[0;32m   1569\u001b[0m \u001b[38;5;28;01mdef\u001b[39;00m \u001b[38;5;21m_run_search\u001b[39m(\u001b[38;5;28mself\u001b[39m, evaluate_candidates):\n\u001b[0;32m   1570\u001b[0m \u001b[38;5;250m    \u001b[39m\u001b[38;5;124;03m\"\"\"Search all candidates in param_grid\"\"\"\u001b[39;00m\n\u001b[1;32m-> 1571\u001b[0m     \u001b[43mevaluate_candidates\u001b[49m\u001b[43m(\u001b[49m\u001b[43mParameterGrid\u001b[49m\u001b[43m(\u001b[49m\u001b[38;5;28;43mself\u001b[39;49m\u001b[38;5;241;43m.\u001b[39;49m\u001b[43mparam_grid\u001b[49m\u001b[43m)\u001b[49m\u001b[43m)\u001b[49m\n",
      "File \u001b[1;32m\\\\?\\C:\\Users\\Home\\AppData\\Roaming\\jupyterlab-desktop\\jlab_server\\Lib\\site-packages\\sklearn\\model_selection\\_search.py:970\u001b[0m, in \u001b[0;36mBaseSearchCV.fit.<locals>.evaluate_candidates\u001b[1;34m(candidate_params, cv, more_results)\u001b[0m\n\u001b[0;32m    962\u001b[0m \u001b[38;5;28;01mif\u001b[39;00m \u001b[38;5;28mself\u001b[39m\u001b[38;5;241m.\u001b[39mverbose \u001b[38;5;241m>\u001b[39m \u001b[38;5;241m0\u001b[39m:\n\u001b[0;32m    963\u001b[0m     \u001b[38;5;28mprint\u001b[39m(\n\u001b[0;32m    964\u001b[0m         \u001b[38;5;124m\"\u001b[39m\u001b[38;5;124mFitting \u001b[39m\u001b[38;5;132;01m{0}\u001b[39;00m\u001b[38;5;124m folds for each of \u001b[39m\u001b[38;5;132;01m{1}\u001b[39;00m\u001b[38;5;124m candidates,\u001b[39m\u001b[38;5;124m\"\u001b[39m\n\u001b[0;32m    965\u001b[0m         \u001b[38;5;124m\"\u001b[39m\u001b[38;5;124m totalling \u001b[39m\u001b[38;5;132;01m{2}\u001b[39;00m\u001b[38;5;124m fits\u001b[39m\u001b[38;5;124m\"\u001b[39m\u001b[38;5;241m.\u001b[39mformat(\n\u001b[0;32m    966\u001b[0m             n_splits, n_candidates, n_candidates \u001b[38;5;241m*\u001b[39m n_splits\n\u001b[0;32m    967\u001b[0m         )\n\u001b[0;32m    968\u001b[0m     )\n\u001b[1;32m--> 970\u001b[0m out \u001b[38;5;241m=\u001b[39m \u001b[43mparallel\u001b[49m\u001b[43m(\u001b[49m\n\u001b[0;32m    971\u001b[0m \u001b[43m    \u001b[49m\u001b[43mdelayed\u001b[49m\u001b[43m(\u001b[49m\u001b[43m_fit_and_score\u001b[49m\u001b[43m)\u001b[49m\u001b[43m(\u001b[49m\n\u001b[0;32m    972\u001b[0m \u001b[43m        \u001b[49m\u001b[43mclone\u001b[49m\u001b[43m(\u001b[49m\u001b[43mbase_estimator\u001b[49m\u001b[43m)\u001b[49m\u001b[43m,\u001b[49m\n\u001b[0;32m    973\u001b[0m \u001b[43m        \u001b[49m\u001b[43mX\u001b[49m\u001b[43m,\u001b[49m\n\u001b[0;32m    974\u001b[0m \u001b[43m        \u001b[49m\u001b[43my\u001b[49m\u001b[43m,\u001b[49m\n\u001b[0;32m    975\u001b[0m \u001b[43m        \u001b[49m\u001b[43mtrain\u001b[49m\u001b[38;5;241;43m=\u001b[39;49m\u001b[43mtrain\u001b[49m\u001b[43m,\u001b[49m\n\u001b[0;32m    976\u001b[0m \u001b[43m        \u001b[49m\u001b[43mtest\u001b[49m\u001b[38;5;241;43m=\u001b[39;49m\u001b[43mtest\u001b[49m\u001b[43m,\u001b[49m\n\u001b[0;32m    977\u001b[0m \u001b[43m        \u001b[49m\u001b[43mparameters\u001b[49m\u001b[38;5;241;43m=\u001b[39;49m\u001b[43mparameters\u001b[49m\u001b[43m,\u001b[49m\n\u001b[0;32m    978\u001b[0m \u001b[43m        \u001b[49m\u001b[43msplit_progress\u001b[49m\u001b[38;5;241;43m=\u001b[39;49m\u001b[43m(\u001b[49m\u001b[43msplit_idx\u001b[49m\u001b[43m,\u001b[49m\u001b[43m \u001b[49m\u001b[43mn_splits\u001b[49m\u001b[43m)\u001b[49m\u001b[43m,\u001b[49m\n\u001b[0;32m    979\u001b[0m \u001b[43m        \u001b[49m\u001b[43mcandidate_progress\u001b[49m\u001b[38;5;241;43m=\u001b[39;49m\u001b[43m(\u001b[49m\u001b[43mcand_idx\u001b[49m\u001b[43m,\u001b[49m\u001b[43m \u001b[49m\u001b[43mn_candidates\u001b[49m\u001b[43m)\u001b[49m\u001b[43m,\u001b[49m\n\u001b[0;32m    980\u001b[0m \u001b[43m        \u001b[49m\u001b[38;5;241;43m*\u001b[39;49m\u001b[38;5;241;43m*\u001b[39;49m\u001b[43mfit_and_score_kwargs\u001b[49m\u001b[43m,\u001b[49m\n\u001b[0;32m    981\u001b[0m \u001b[43m    \u001b[49m\u001b[43m)\u001b[49m\n\u001b[0;32m    982\u001b[0m \u001b[43m    \u001b[49m\u001b[38;5;28;43;01mfor\u001b[39;49;00m\u001b[43m \u001b[49m\u001b[43m(\u001b[49m\u001b[43mcand_idx\u001b[49m\u001b[43m,\u001b[49m\u001b[43m \u001b[49m\u001b[43mparameters\u001b[49m\u001b[43m)\u001b[49m\u001b[43m,\u001b[49m\u001b[43m \u001b[49m\u001b[43m(\u001b[49m\u001b[43msplit_idx\u001b[49m\u001b[43m,\u001b[49m\u001b[43m \u001b[49m\u001b[43m(\u001b[49m\u001b[43mtrain\u001b[49m\u001b[43m,\u001b[49m\u001b[43m \u001b[49m\u001b[43mtest\u001b[49m\u001b[43m)\u001b[49m\u001b[43m)\u001b[49m\u001b[43m \u001b[49m\u001b[38;5;129;43;01min\u001b[39;49;00m\u001b[43m \u001b[49m\u001b[43mproduct\u001b[49m\u001b[43m(\u001b[49m\n\u001b[0;32m    983\u001b[0m \u001b[43m        \u001b[49m\u001b[38;5;28;43menumerate\u001b[39;49m\u001b[43m(\u001b[49m\u001b[43mcandidate_params\u001b[49m\u001b[43m)\u001b[49m\u001b[43m,\u001b[49m\n\u001b[0;32m    984\u001b[0m \u001b[43m        \u001b[49m\u001b[38;5;28;43menumerate\u001b[39;49m\u001b[43m(\u001b[49m\u001b[43mcv\u001b[49m\u001b[38;5;241;43m.\u001b[39;49m\u001b[43msplit\u001b[49m\u001b[43m(\u001b[49m\u001b[43mX\u001b[49m\u001b[43m,\u001b[49m\u001b[43m \u001b[49m\u001b[43my\u001b[49m\u001b[43m,\u001b[49m\u001b[43m \u001b[49m\u001b[38;5;241;43m*\u001b[39;49m\u001b[38;5;241;43m*\u001b[39;49m\u001b[43mrouted_params\u001b[49m\u001b[38;5;241;43m.\u001b[39;49m\u001b[43msplitter\u001b[49m\u001b[38;5;241;43m.\u001b[39;49m\u001b[43msplit\u001b[49m\u001b[43m)\u001b[49m\u001b[43m)\u001b[49m\u001b[43m,\u001b[49m\n\u001b[0;32m    985\u001b[0m \u001b[43m    \u001b[49m\u001b[43m)\u001b[49m\n\u001b[0;32m    986\u001b[0m \u001b[43m\u001b[49m\u001b[43m)\u001b[49m\n\u001b[0;32m    988\u001b[0m \u001b[38;5;28;01mif\u001b[39;00m \u001b[38;5;28mlen\u001b[39m(out) \u001b[38;5;241m<\u001b[39m \u001b[38;5;241m1\u001b[39m:\n\u001b[0;32m    989\u001b[0m     \u001b[38;5;28;01mraise\u001b[39;00m \u001b[38;5;167;01mValueError\u001b[39;00m(\n\u001b[0;32m    990\u001b[0m         \u001b[38;5;124m\"\u001b[39m\u001b[38;5;124mNo fits were performed. \u001b[39m\u001b[38;5;124m\"\u001b[39m\n\u001b[0;32m    991\u001b[0m         \u001b[38;5;124m\"\u001b[39m\u001b[38;5;124mWas the CV iterator empty? \u001b[39m\u001b[38;5;124m\"\u001b[39m\n\u001b[0;32m    992\u001b[0m         \u001b[38;5;124m\"\u001b[39m\u001b[38;5;124mWere there no candidates?\u001b[39m\u001b[38;5;124m\"\u001b[39m\n\u001b[0;32m    993\u001b[0m     )\n",
      "File \u001b[1;32m\\\\?\\C:\\Users\\Home\\AppData\\Roaming\\jupyterlab-desktop\\jlab_server\\Lib\\site-packages\\sklearn\\utils\\parallel.py:77\u001b[0m, in \u001b[0;36mParallel.__call__\u001b[1;34m(self, iterable)\u001b[0m\n\u001b[0;32m     72\u001b[0m config \u001b[38;5;241m=\u001b[39m get_config()\n\u001b[0;32m     73\u001b[0m iterable_with_config \u001b[38;5;241m=\u001b[39m (\n\u001b[0;32m     74\u001b[0m     (_with_config(delayed_func, config), args, kwargs)\n\u001b[0;32m     75\u001b[0m     \u001b[38;5;28;01mfor\u001b[39;00m delayed_func, args, kwargs \u001b[38;5;129;01min\u001b[39;00m iterable\n\u001b[0;32m     76\u001b[0m )\n\u001b[1;32m---> 77\u001b[0m \u001b[38;5;28;01mreturn\u001b[39;00m \u001b[38;5;28;43msuper\u001b[39;49m\u001b[43m(\u001b[49m\u001b[43m)\u001b[49m\u001b[38;5;241;43m.\u001b[39;49m\u001b[38;5;21;43m__call__\u001b[39;49m\u001b[43m(\u001b[49m\u001b[43miterable_with_config\u001b[49m\u001b[43m)\u001b[49m\n",
      "File \u001b[1;32m\\\\?\\C:\\Users\\Home\\AppData\\Roaming\\jupyterlab-desktop\\jlab_server\\Lib\\site-packages\\joblib\\parallel.py:2007\u001b[0m, in \u001b[0;36mParallel.__call__\u001b[1;34m(self, iterable)\u001b[0m\n\u001b[0;32m   2001\u001b[0m \u001b[38;5;66;03m# The first item from the output is blank, but it makes the interpreter\u001b[39;00m\n\u001b[0;32m   2002\u001b[0m \u001b[38;5;66;03m# progress until it enters the Try/Except block of the generator and\u001b[39;00m\n\u001b[0;32m   2003\u001b[0m \u001b[38;5;66;03m# reaches the first `yield` statement. This starts the asynchronous\u001b[39;00m\n\u001b[0;32m   2004\u001b[0m \u001b[38;5;66;03m# dispatch of the tasks to the workers.\u001b[39;00m\n\u001b[0;32m   2005\u001b[0m \u001b[38;5;28mnext\u001b[39m(output)\n\u001b[1;32m-> 2007\u001b[0m \u001b[38;5;28;01mreturn\u001b[39;00m output \u001b[38;5;28;01mif\u001b[39;00m \u001b[38;5;28mself\u001b[39m\u001b[38;5;241m.\u001b[39mreturn_generator \u001b[38;5;28;01melse\u001b[39;00m \u001b[38;5;28;43mlist\u001b[39;49m\u001b[43m(\u001b[49m\u001b[43moutput\u001b[49m\u001b[43m)\u001b[49m\n",
      "File \u001b[1;32m\\\\?\\C:\\Users\\Home\\AppData\\Roaming\\jupyterlab-desktop\\jlab_server\\Lib\\site-packages\\joblib\\parallel.py:1650\u001b[0m, in \u001b[0;36mParallel._get_outputs\u001b[1;34m(self, iterator, pre_dispatch)\u001b[0m\n\u001b[0;32m   1647\u001b[0m     \u001b[38;5;28;01myield\u001b[39;00m\n\u001b[0;32m   1649\u001b[0m     \u001b[38;5;28;01mwith\u001b[39;00m \u001b[38;5;28mself\u001b[39m\u001b[38;5;241m.\u001b[39m_backend\u001b[38;5;241m.\u001b[39mretrieval_context():\n\u001b[1;32m-> 1650\u001b[0m         \u001b[38;5;28;01myield from\u001b[39;00m \u001b[38;5;28mself\u001b[39m\u001b[38;5;241m.\u001b[39m_retrieve()\n\u001b[0;32m   1652\u001b[0m \u001b[38;5;28;01mexcept\u001b[39;00m \u001b[38;5;167;01mGeneratorExit\u001b[39;00m:\n\u001b[0;32m   1653\u001b[0m     \u001b[38;5;66;03m# The generator has been garbage collected before being fully\u001b[39;00m\n\u001b[0;32m   1654\u001b[0m     \u001b[38;5;66;03m# consumed. This aborts the remaining tasks if possible and warn\u001b[39;00m\n\u001b[0;32m   1655\u001b[0m     \u001b[38;5;66;03m# the user if necessary.\u001b[39;00m\n\u001b[0;32m   1656\u001b[0m     \u001b[38;5;28mself\u001b[39m\u001b[38;5;241m.\u001b[39m_exception \u001b[38;5;241m=\u001b[39m \u001b[38;5;28;01mTrue\u001b[39;00m\n",
      "File \u001b[1;32m\\\\?\\C:\\Users\\Home\\AppData\\Roaming\\jupyterlab-desktop\\jlab_server\\Lib\\site-packages\\joblib\\parallel.py:1754\u001b[0m, in \u001b[0;36mParallel._retrieve\u001b[1;34m(self)\u001b[0m\n\u001b[0;32m   1747\u001b[0m \u001b[38;5;28;01mwhile\u001b[39;00m \u001b[38;5;28mself\u001b[39m\u001b[38;5;241m.\u001b[39m_wait_retrieval():\n\u001b[0;32m   1748\u001b[0m \n\u001b[0;32m   1749\u001b[0m     \u001b[38;5;66;03m# If the callback thread of a worker has signaled that its task\u001b[39;00m\n\u001b[0;32m   1750\u001b[0m     \u001b[38;5;66;03m# triggered an exception, or if the retrieval loop has raised an\u001b[39;00m\n\u001b[0;32m   1751\u001b[0m     \u001b[38;5;66;03m# exception (e.g. `GeneratorExit`), exit the loop and surface the\u001b[39;00m\n\u001b[0;32m   1752\u001b[0m     \u001b[38;5;66;03m# worker traceback.\u001b[39;00m\n\u001b[0;32m   1753\u001b[0m     \u001b[38;5;28;01mif\u001b[39;00m \u001b[38;5;28mself\u001b[39m\u001b[38;5;241m.\u001b[39m_aborting:\n\u001b[1;32m-> 1754\u001b[0m         \u001b[38;5;28;43mself\u001b[39;49m\u001b[38;5;241;43m.\u001b[39;49m\u001b[43m_raise_error_fast\u001b[49m\u001b[43m(\u001b[49m\u001b[43m)\u001b[49m\n\u001b[0;32m   1755\u001b[0m         \u001b[38;5;28;01mbreak\u001b[39;00m\n\u001b[0;32m   1757\u001b[0m     \u001b[38;5;66;03m# If the next job is not ready for retrieval yet, we just wait for\u001b[39;00m\n\u001b[0;32m   1758\u001b[0m     \u001b[38;5;66;03m# async callbacks to progress.\u001b[39;00m\n",
      "File \u001b[1;32m\\\\?\\C:\\Users\\Home\\AppData\\Roaming\\jupyterlab-desktop\\jlab_server\\Lib\\site-packages\\joblib\\parallel.py:1789\u001b[0m, in \u001b[0;36mParallel._raise_error_fast\u001b[1;34m(self)\u001b[0m\n\u001b[0;32m   1785\u001b[0m \u001b[38;5;66;03m# If this error job exists, immediately raise the error by\u001b[39;00m\n\u001b[0;32m   1786\u001b[0m \u001b[38;5;66;03m# calling get_result. This job might not exists if abort has been\u001b[39;00m\n\u001b[0;32m   1787\u001b[0m \u001b[38;5;66;03m# called directly or if the generator is gc'ed.\u001b[39;00m\n\u001b[0;32m   1788\u001b[0m \u001b[38;5;28;01mif\u001b[39;00m error_job \u001b[38;5;129;01mis\u001b[39;00m \u001b[38;5;129;01mnot\u001b[39;00m \u001b[38;5;28;01mNone\u001b[39;00m:\n\u001b[1;32m-> 1789\u001b[0m     \u001b[43merror_job\u001b[49m\u001b[38;5;241;43m.\u001b[39;49m\u001b[43mget_result\u001b[49m\u001b[43m(\u001b[49m\u001b[38;5;28;43mself\u001b[39;49m\u001b[38;5;241;43m.\u001b[39;49m\u001b[43mtimeout\u001b[49m\u001b[43m)\u001b[49m\n",
      "File \u001b[1;32m\\\\?\\C:\\Users\\Home\\AppData\\Roaming\\jupyterlab-desktop\\jlab_server\\Lib\\site-packages\\joblib\\parallel.py:745\u001b[0m, in \u001b[0;36mBatchCompletionCallBack.get_result\u001b[1;34m(self, timeout)\u001b[0m\n\u001b[0;32m    739\u001b[0m backend \u001b[38;5;241m=\u001b[39m \u001b[38;5;28mself\u001b[39m\u001b[38;5;241m.\u001b[39mparallel\u001b[38;5;241m.\u001b[39m_backend\n\u001b[0;32m    741\u001b[0m \u001b[38;5;28;01mif\u001b[39;00m backend\u001b[38;5;241m.\u001b[39msupports_retrieve_callback:\n\u001b[0;32m    742\u001b[0m     \u001b[38;5;66;03m# We assume that the result has already been retrieved by the\u001b[39;00m\n\u001b[0;32m    743\u001b[0m     \u001b[38;5;66;03m# callback thread, and is stored internally. It's just waiting to\u001b[39;00m\n\u001b[0;32m    744\u001b[0m     \u001b[38;5;66;03m# be returned.\u001b[39;00m\n\u001b[1;32m--> 745\u001b[0m     \u001b[38;5;28;01mreturn\u001b[39;00m \u001b[38;5;28;43mself\u001b[39;49m\u001b[38;5;241;43m.\u001b[39;49m\u001b[43m_return_or_raise\u001b[49m\u001b[43m(\u001b[49m\u001b[43m)\u001b[49m\n\u001b[0;32m    747\u001b[0m \u001b[38;5;66;03m# For other backends, the main thread needs to run the retrieval step.\u001b[39;00m\n\u001b[0;32m    748\u001b[0m \u001b[38;5;28;01mtry\u001b[39;00m:\n",
      "File \u001b[1;32m\\\\?\\C:\\Users\\Home\\AppData\\Roaming\\jupyterlab-desktop\\jlab_server\\Lib\\site-packages\\joblib\\parallel.py:763\u001b[0m, in \u001b[0;36mBatchCompletionCallBack._return_or_raise\u001b[1;34m(self)\u001b[0m\n\u001b[0;32m    761\u001b[0m \u001b[38;5;28;01mtry\u001b[39;00m:\n\u001b[0;32m    762\u001b[0m     \u001b[38;5;28;01mif\u001b[39;00m \u001b[38;5;28mself\u001b[39m\u001b[38;5;241m.\u001b[39mstatus \u001b[38;5;241m==\u001b[39m TASK_ERROR:\n\u001b[1;32m--> 763\u001b[0m         \u001b[38;5;28;01mraise\u001b[39;00m \u001b[38;5;28mself\u001b[39m\u001b[38;5;241m.\u001b[39m_result\n\u001b[0;32m    764\u001b[0m     \u001b[38;5;28;01mreturn\u001b[39;00m \u001b[38;5;28mself\u001b[39m\u001b[38;5;241m.\u001b[39m_result\n\u001b[0;32m    765\u001b[0m \u001b[38;5;28;01mfinally\u001b[39;00m:\n",
      "\u001b[1;31mOSError\u001b[0m: [Errno 22] Invalid argument"
     ]
    }
   ],
   "source": [
    "gs = GridSearchCV(pipeline, param_grid, cv=5, scoring='f1_weighted', n_jobs=-1, verbose=2)\n",
    "gs.fit(X_train, y_train)\n",
    "\n",
    "print(\"Mejores parámetros:\", gs.best_params_)\n",
    "print(\"Mejor score:\", gs.best_score_)"
   ]
  },
  {
   "cell_type": "code",
   "execution_count": null,
   "id": "665e74e9-0dde-4afa-8c51-db93f19fa2f0",
   "metadata": {},
   "outputs": [],
   "source": [
    "y_pred = gs.predict(test_x)\n",
    "from sklearn.metrics import classification_report\n",
    "print(classification_report(test_y, y_pred))"
   ]
  },
  {
   "cell_type": "code",
   "execution_count": null,
   "id": "8ddf736f-7ee6-4d74-b807-089cdfae8ec0",
   "metadata": {},
   "outputs": [],
   "source": [
    "cm = confusion_matrix(test_y, y_pred)\n",
    "labels = ['ham', 'spam']\n",
    "\n",
    "plt.figure(figsize=(6,4))\n",
    "sns.heatmap(cm, annot=True, fmt='d', xticklabels=labels, yticklabels=labels, cmap='Blues')\n",
    "plt.ylabel('Etiqueta Real')\n",
    "plt.xlabel('Etiqueta Predicha')\n",
    "plt.title('Matriz de Confusión')\n",
    "plt.show()"
   ]
  },
  {
   "cell_type": "markdown",
   "id": "4ed4c67b-ee0c-44c7-873c-1f7d85122dfa",
   "metadata": {},
   "source": [
    "## individual test"
   ]
  },
  {
   "cell_type": "code",
   "execution_count": 67,
   "id": "7a64b39e-9435-4cc4-af9b-248a7bce816d",
   "metadata": {},
   "outputs": [],
   "source": [
    "spam_messages = [\n",
    "    \"Congratulations! You've won a $1,000 Walmart gift card. Click here to claim now.\",\n",
    "    \"Urgent! Your account has been compromised. Reset your password immediately at http://fakebank.com/reset\",\n",
    "    \"You have been selected for a free cruise to the Bahamas! Call 1-800-123-4567 now.\",\n",
    "    \"Earn $5000 a week from home. No experience required. Sign up today at www.easycash.com\",\n",
    "    \"Get cheap meds without prescription! Visit http://cheapmeds.example.com and save big.\",\n",
    "    \"Limited time offer! Buy one, get one free on all products. Visit www.shopnow.com\",\n",
    "    \"Act now! Last chance to secure your loan with low interest rates. Apply at www.quickloan.com\",\n",
    "    \"Work from home and make $1000 per day! Click here to start.\",\n",
    "    \"Your package is waiting for you. Confirm your address at http://tracking.fakeurl.com\",\n",
    "    \"Lowest prices on electronics! Visit www.dealsnow.com\",\n",
    "    \"Hot singles in your area are waiting to meet you! Join now!\",\n",
    "    \"Get a new credit card with zero interest. Apply today!\",\n",
    "    \"This is not a scam! Claim your inheritance now by calling 1-800-000-0000\",\n",
    "    \"Congratulations! You won a free iPhone. Click here to claim.\",\n",
    "    \"Make money fast with this simple trick. Visit www.easymoney.com\",\n",
    "    \"Save big on your car insurance. Get a free quote now.\",\n",
    "    \"Exclusive offer for you! Buy our product and get 50% off.\",\n",
    "    \"Your computer is infected! Download our free antivirus now.\",\n",
    "    \"Earn extra income without leaving your house. Sign up now!\",\n",
    "    \"You have a new voicemail. Listen now at http://voicemail.fakeurl.com\",\n",
    "    # 20\n",
    "    \"Become a millionaire in 30 days! Start now.\",\n",
    "    \"Claim your free trial today. No credit card required.\",\n",
    "    \"Get your diploma online without studying! Click here.\",\n",
    "    \"Unlock your phone for free. Visit www.unlocknow.com\",\n",
    "    \"Cheap prescription drugs available now! Order today.\",\n",
    "    \"Win big prizes with our lottery. Enter now.\",\n",
    "    \"Act fast! Limited spots available for this offer.\",\n",
    "    \"Make your ex jealous with this simple method.\",\n",
    "    \"New weight loss pill that really works. Buy now.\",\n",
    "    \"Your loan has been approved. Click here to get funds.\",\n",
    "    # 30\n",
    "    \"Invest in crypto and double your money quickly.\",\n",
    "    \"You have an unpaid invoice. Pay immediately to avoid penalties.\",\n",
    "    \"Get free gift cards by completing surveys.\",\n",
    "    \"Hot deals on luxury watches. Limited time only.\",\n",
    "    \"Claim your cash reward before it's gone.\",\n",
    "    \"Your account will be suspended unless verified now.\",\n",
    "    \"Special discount on all your favorite brands.\",\n",
    "    \"Earn money playing games online. Join free today.\",\n",
    "    \"Congratulations! You're pre-approved for a credit increase.\",\n",
    "    \"New miracle cream for flawless skin. Order now.\",\n",
    "    # 40\n",
    "    \"Your tax refund is ready. Submit your details.\",\n",
    "    \"Exclusive membership offer. Join today and save.\",\n",
    "    \"Work at home and earn thousands monthly.\",\n",
    "    \"Limited time: Free shipping on all orders.\",\n",
    "    \"Claim your prize by clicking the link.\",\n",
    "    \"You won a free vacation package. Act now!\",\n",
    "    \"Get your free credit report instantly.\",\n",
    "    \"Buy now and get an extra gift for free.\",\n",
    "    \"Your device warranty has expired. Renew now.\",\n",
    "    \"Make money fast with this secret method.\",\n",
    "    # 50\n",
    "    \"Get paid to watch videos online.\",\n",
    "    \"Lose weight without dieting. Try our product.\",\n",
    "    \"You are selected for a special bonus. Claim now.\",\n",
    "    \"New software can make you rich overnight.\",\n",
    "    \"Your package delivery failed. Reschedule now.\",\n",
    "    \"Get a personal loan with low interest rates.\",\n",
    "    \"Earn passive income from home easily.\",\n",
    "    \"Limited offer: Save 70% on all electronics.\",\n",
    "    \"Exclusive deals for new customers only.\",\n",
    "    \"Win a free tablet by entering the contest.\",\n",
    "    # 60\n",
    "    \"Your bank account is at risk. Verify immediately.\",\n",
    "    \"Make $1000 per day working online.\",\n",
    "    \"Free membership for a limited time.\",\n",
    "    \"Click here to unlock exclusive content.\",\n",
    "    \"You have won a brand new car!\",\n",
    "    \"Get rid of bad credit fast. Apply now.\",\n",
    "    \"Hot singles want to chat with you now!\",\n",
    "    \"Special promotion ends today. Don't miss out.\",\n",
    "    \"Make money with no investment required.\",\n",
    "    \"Your social security number has been compromised.\",\n",
    "    # 70\n",
    "    \"Download free music and movies here.\",\n",
    "    \"Act now to receive your bonus gift card.\",\n",
    "    \"This offer expires soon. Claim yours today.\",\n",
    "    \"Join millions earning money from home.\",\n",
    "    \"New breakthrough pill guarantees weight loss.\",\n",
    "    \"Congratulations! You qualify for a free gift.\",\n",
    "    \"Your loan application has been approved.\",\n",
    "    \"Get cash advances with no credit check.\",\n",
    "    \"Limited time offer: Get 2 for the price of 1.\",\n",
    "    \"Claim your free samples now.\",\n",
    "    # 80\n",
    "    \"Earn cash fast with our affiliate program.\",\n",
    "    \"Your account is locked due to suspicious activity.\",\n",
    "    \"Get paid for your opinions. Sign up today.\",\n",
    "    \"Special discount for loyal customers.\",\n",
    "    \"Win big with our online casino. Play now.\",\n",
    "    \"Make money without leaving your home.\",\n",
    "    \"Congratulations! You have a pending refund.\",\n",
    "    \"Exclusive access to premium content. Subscribe now.\",\n",
    "    \"Get rich quick with this amazing opportunity.\",\n",
    "    \"Your subscription has been renewed successfully.\",\n",
    "    # 90\n",
    "    \"Work from home jobs available now.\",\n",
    "    \"Get free tickets to concerts and events.\",\n",
    "    \"New credit card offers just for you.\",\n",
    "    \"Download our app to save money instantly.\",\n",
    "    \"Make money trading stocks easily.\",\n",
    "    \"Claim your prize before time runs out.\",\n",
    "    \"Get a refund for your last purchase.\",\n",
    "    \"Your email has been selected for a prize.\",\n",
    "    \"Free entry to sweepstakes. Enter today.\",\n",
    "    \"Limited offer: Upgrade your account now.\"\n",
    "]\n"
   ]
  },
  {
   "cell_type": "code",
   "execution_count": 68,
   "id": "abc4eca6-6ee0-4755-b4b7-2def876fbca0",
   "metadata": {},
   "outputs": [],
   "source": [
    "predicciones = []\n",
    "for i in spam_messages:\n",
    "    clean_work = clean_text(i)\n",
    "    # El método predict espera una lista o array de textos\n",
    "    prediccion = gs.predict([clean_work])\n",
    "    predicciones.append( prediccion[0])\n"
   ]
  },
  {
   "cell_type": "code",
   "execution_count": 70,
   "id": "8add9645-6069-4a02-b55f-06b90e037a6e",
   "metadata": {},
   "outputs": [
    {
     "data": {
      "text/plain": [
       "86"
      ]
     },
     "execution_count": 70,
     "metadata": {},
     "output_type": "execute_result"
    }
   ],
   "source": [
    "spam_count"
   ]
  },
  {
   "cell_type": "code",
   "execution_count": 69,
   "id": "57e30997-1a32-40ed-a986-69afebe0460a",
   "metadata": {},
   "outputs": [
    {
     "name": "stdout",
     "output_type": "stream",
     "text": [
      "0.86\n"
     ]
    }
   ],
   "source": [
    "total = len(predicciones)\n",
    "spam_count = predicciones.count(0)\n",
    "result = spam_count / total\n",
    "\n",
    "print(result)\n"
   ]
  },
  {
   "cell_type": "code",
   "execution_count": null,
   "id": "08634317-a27e-40e8-aba5-47a999449b6e",
   "metadata": {},
   "outputs": [],
   "source": []
  }
 ],
 "metadata": {
  "kernelspec": {
   "display_name": "Python 3 (ipykernel)",
   "language": "python",
   "name": "python3"
  },
  "language_info": {
   "codemirror_mode": {
    "name": "ipython",
    "version": 3
   },
   "file_extension": ".py",
   "mimetype": "text/x-python",
   "name": "python",
   "nbconvert_exporter": "python",
   "pygments_lexer": "ipython3",
   "version": "3.12.5"
  }
 },
 "nbformat": 4,
 "nbformat_minor": 5
}
