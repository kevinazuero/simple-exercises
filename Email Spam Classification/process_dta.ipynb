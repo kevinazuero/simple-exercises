{
 "cells": [
  {
   "cell_type": "code",
   "execution_count": 189,
   "id": "c7639783-dc65-4a21-9ca7-fd4eae793ea6",
   "metadata": {},
   "outputs": [],
   "source": [
    "import pandas as pd\n",
    "from sklearn.feature_extraction.text import CountVectorizer\n",
    "import numpy as np\n",
    "from sklearn.model_selection import train_test_split\n",
    "from sklearn.pipeline import Pipeline\n",
    "from sklearn.feature_extraction.text import TfidfVectorizer\n",
    "from sklearn.naive_bayes import MultinomialNB\n",
    "from sklearn.metrics import classification_report, confusion_matrix\n",
    "from sklearn.svm import LinearSVC\n",
    "from sklearn.model_selection import GridSearchCV\n",
    "import re\n",
    "import seaborn as sns\n",
    "import matplotlib.pyplot as plt"
   ]
  },
  {
   "cell_type": "code",
   "execution_count": 166,
   "id": "03f10947-fe51-487b-8414-eb0f1542067b",
   "metadata": {},
   "outputs": [],
   "source": [
    "def clean_text(s):\n",
    "    s = str(s).lower()\n",
    "    s = re.sub(r'<[^>]+>', ' ', s)           # quitar HTML\n",
    "    s = re.sub(r'http\\S+|www\\.\\S+', ' <URL> ', s)  # URLs -> token\n",
    "    s = re.sub(r'\\d{2,}', ' <NUM> ', s)     # números largos -> token\n",
    "    s = re.sub(r'[^a-zA-Z0-9<> ]', ' ', s)  # quitar puntuación (simple)\n",
    "    s = re.sub(r'\\s+', ' ', s).strip()\n",
    "    return s"
   ]
  },
  {
   "cell_type": "markdown",
   "id": "319aa169-ac98-4553-9a0c-b238b9be8ed8",
   "metadata": {},
   "source": [
    "## get dataset"
   ]
  },
  {
   "cell_type": "code",
   "execution_count": 167,
   "id": "f362926c-ef0b-43c8-bad5-a623f6472680",
   "metadata": {},
   "outputs": [],
   "source": [
    "path_data = \"dataset/spam.csv\"\n",
    "test_data = \"dataset/spam_or_not_spam.csv\""
   ]
  },
  {
   "cell_type": "code",
   "execution_count": 168,
   "id": "5806e18a-afde-452c-b733-9907cf27f4b6",
   "metadata": {},
   "outputs": [],
   "source": [
    "df = pd.read_csv(path_data)\n",
    "dt = pd.read_csv(test_data)"
   ]
  },
  {
   "cell_type": "code",
   "execution_count": 169,
   "id": "c0a90afa-95ff-4845-85b4-5c48d87a6e61",
   "metadata": {},
   "outputs": [
    {
     "data": {
      "text/html": [
       "<div>\n",
       "<style scoped>\n",
       "    .dataframe tbody tr th:only-of-type {\n",
       "        vertical-align: middle;\n",
       "    }\n",
       "\n",
       "    .dataframe tbody tr th {\n",
       "        vertical-align: top;\n",
       "    }\n",
       "\n",
       "    .dataframe thead th {\n",
       "        text-align: right;\n",
       "    }\n",
       "</style>\n",
       "<table border=\"1\" class=\"dataframe\">\n",
       "  <thead>\n",
       "    <tr style=\"text-align: right;\">\n",
       "      <th></th>\n",
       "      <th>Category</th>\n",
       "      <th>Message</th>\n",
       "    </tr>\n",
       "  </thead>\n",
       "  <tbody>\n",
       "    <tr>\n",
       "      <th>0</th>\n",
       "      <td>ham</td>\n",
       "      <td>Go until jurong point, crazy.. Available only ...</td>\n",
       "    </tr>\n",
       "    <tr>\n",
       "      <th>1</th>\n",
       "      <td>ham</td>\n",
       "      <td>Ok lar... Joking wif u oni...</td>\n",
       "    </tr>\n",
       "    <tr>\n",
       "      <th>2</th>\n",
       "      <td>spam</td>\n",
       "      <td>Free entry in 2 a wkly comp to win FA Cup fina...</td>\n",
       "    </tr>\n",
       "    <tr>\n",
       "      <th>3</th>\n",
       "      <td>ham</td>\n",
       "      <td>U dun say so early hor... U c already then say...</td>\n",
       "    </tr>\n",
       "    <tr>\n",
       "      <th>4</th>\n",
       "      <td>ham</td>\n",
       "      <td>Nah I don't think he goes to usf, he lives aro...</td>\n",
       "    </tr>\n",
       "  </tbody>\n",
       "</table>\n",
       "</div>"
      ],
      "text/plain": [
       "  Category                                            Message\n",
       "0      ham  Go until jurong point, crazy.. Available only ...\n",
       "1      ham                      Ok lar... Joking wif u oni...\n",
       "2     spam  Free entry in 2 a wkly comp to win FA Cup fina...\n",
       "3      ham  U dun say so early hor... U c already then say...\n",
       "4      ham  Nah I don't think he goes to usf, he lives aro..."
      ]
     },
     "execution_count": 169,
     "metadata": {},
     "output_type": "execute_result"
    }
   ],
   "source": [
    "df.head()"
   ]
  },
  {
   "cell_type": "code",
   "execution_count": 170,
   "id": "fc1de729-f9bf-4deb-a329-d1fa92ec75a3",
   "metadata": {},
   "outputs": [],
   "source": [
    "cols = dt.columns.str.lower()\n",
    "if 'email' in cols:\n",
    "    dt = dt.rename(columns={dt.columns[cols.tolist().index('email')]: 'message',})\n",
    "else:\n",
    "    # si no, inspecciona manualmente (muestra primeros 5 columnas)\n",
    "    print(\"Revisa los nombres de columnas. Aquí un ejemplo:\")\n",
    "    display(df.head())"
   ]
  },
  {
   "cell_type": "code",
   "execution_count": 171,
   "id": "e0d23326-e0bf-4991-a12a-187167b4e2ce",
   "metadata": {},
   "outputs": [
    {
     "data": {
      "text/plain": [
       "Category\n",
       "ham     4825\n",
       "spam     747\n",
       "Name: count, dtype: int64"
      ]
     },
     "execution_count": 171,
     "metadata": {},
     "output_type": "execute_result"
    }
   ],
   "source": [
    "df[\"Category\"].value_counts()"
   ]
  },
  {
   "cell_type": "code",
   "execution_count": 172,
   "id": "e3979d81-8946-44ed-8b6e-265f015a5ab0",
   "metadata": {},
   "outputs": [
    {
     "name": "stdout",
     "output_type": "stream",
     "text": [
      "Top palabras para 'ham':\n",
      "['gt' 'lt' 'just' 'ok' 'll' 'ur' 'know' 'good' 'like' 'got' 'come' 'day'\n",
      " 'love' 'time' 'going' 'want' 'home' 'lor' 'need' 'don']\n",
      "\n",
      "Top palabras para 'spam':\n",
      "['free' 'txt' 'ur' 'mobile' 'text' 'stop' 'claim' 'reply' 'www' 'prize'\n",
      " 'just' 'cash' 'uk' 'won' '150p' 'send' 'new' 'nokia' 'win' 'urgent']\n",
      "\n"
     ]
    }
   ],
   "source": [
    "for label in df['Category'].unique():\n",
    "    textos = df[df['Category'] == label]['Message'].astype(str)\n",
    "    cv = CountVectorizer(stop_words='english', min_df=2)\n",
    "    Xc = cv.fit_transform(textos)\n",
    "    words = np.array(cv.get_feature_names_out())\n",
    "    sums = Xc.toarray().sum(axis=0)\n",
    "    top_idx = sums.argsort()[::-1][:20]\n",
    "    print(f\"Top palabras para '{label}':\")\n",
    "    print(words[top_idx])\n",
    "    print()"
   ]
  },
  {
   "cell_type": "markdown",
   "id": "4c7e4bc4-e46b-4637-a72c-d4afa3222a24",
   "metadata": {},
   "source": [
    "## transforming data"
   ]
  },
  {
   "cell_type": "code",
   "execution_count": 173,
   "id": "32bf89db-d2be-40fe-bca0-0879b2405c9c",
   "metadata": {},
   "outputs": [],
   "source": [
    "# ejemplo robusto: detectar columnas probables\n",
    "\n",
    "cols = df.columns.str.lower()\n",
    "if 'message' in cols and 'category' in cols:\n",
    "    df = df.rename(columns={df.columns[cols.tolist().index('message')]: 'message',\n",
    "                            df.columns[cols.tolist().index('category')]: 'label'})\n",
    "else:\n",
    "    # si no, inspecciona manualmente (muestra primeros 5 columnas)\n",
    "    print(\"Revisa los nombres de columnas. Aquí un ejemplo:\")\n",
    "    display(df.head())"
   ]
  },
  {
   "cell_type": "code",
   "execution_count": 174,
   "id": "e423beb2-37d4-4919-93f5-17fad7e4e0d3",
   "metadata": {},
   "outputs": [
    {
     "name": "stdout",
     "output_type": "stream",
     "text": [
      "        count       mean        std  min    25%    50%    75%    max\n",
      "label                                                               \n",
      "ham    4825.0   71.44829  58.434864  2.0   33.0   52.0   93.0  910.0\n",
      "spam    747.0  137.98929  29.980287  7.0  132.0  149.0  157.0  223.0\n"
     ]
    }
   ],
   "source": [
    "df['msg_len'] = df['message'].str.len()\n",
    "print(df.groupby('label')['msg_len'].describe())"
   ]
  },
  {
   "cell_type": "code",
   "execution_count": 175,
   "id": "ac64381c-f600-48b2-b7cb-88b27d6bafe3",
   "metadata": {},
   "outputs": [],
   "source": [
    "df['message_clean'] = df['message'].apply(clean_text)"
   ]
  },
  {
   "cell_type": "code",
   "execution_count": 176,
   "id": "c5f5445d-a017-461f-9975-15af95742e19",
   "metadata": {},
   "outputs": [],
   "source": [
    "df['label'] = df['label'].map({'ham': 0, 'spam': 1})"
   ]
  },
  {
   "cell_type": "code",
   "execution_count": 177,
   "id": "593cc176-04e7-4158-882c-f4158fa8e31c",
   "metadata": {},
   "outputs": [],
   "source": [
    "test_x = dt['message'].apply(clean_text)\n",
    "test_y = dt[\"label\"]"
   ]
  },
  {
   "cell_type": "code",
   "execution_count": 178,
   "id": "649fe07d-d658-4465-8e9c-c94430ebc60e",
   "metadata": {},
   "outputs": [],
   "source": [
    "X = df['message_clean']\n",
    "y = df['label']\n",
    "\n",
    "# stratify para mantener proporciones ham/spam\n",
    "X_train, X_test, y_train, y_test = train_test_split(\n",
    "    X, y, test_size=0.2, random_state=42, stratify=y)"
   ]
  },
  {
   "cell_type": "markdown",
   "id": "2b76004d-d8ff-49e2-a3c8-f2a4fc0da934",
   "metadata": {},
   "source": [
    "## MultinomialNB train"
   ]
  },
  {
   "cell_type": "code",
   "execution_count": 179,
   "id": "1440ff3e-9732-4134-a49a-8eaf0846edfa",
   "metadata": {},
   "outputs": [],
   "source": [
    "pipeline = Pipeline([\n",
    "    ('tfidf', TfidfVectorizer(ngram_range=(1,2), min_df=2, max_df=0.95)),\n",
    "    ('clf', MultinomialNB(alpha=0.1))\n",
    "])"
   ]
  },
  {
   "cell_type": "code",
   "execution_count": 180,
   "id": "42372f35-f450-4e47-afd7-1968242bbb9c",
   "metadata": {},
   "outputs": [
    {
     "name": "stdout",
     "output_type": "stream",
     "text": [
      "Fitting 5 folds for each of 24 candidates, totalling 120 fits\n",
      "Best params: {'clf__alpha': 0.1, 'tfidf__min_df': 2, 'tfidf__ngram_range': (1, 2)}\n",
      "              precision    recall  f1-score   support\n",
      "\n",
      "           0       0.99      1.00      0.99       966\n",
      "           1       1.00      0.93      0.96       149\n",
      "\n",
      "    accuracy                           0.99      1115\n",
      "   macro avg       0.99      0.96      0.98      1115\n",
      "weighted avg       0.99      0.99      0.99      1115\n",
      "\n"
     ]
    }
   ],
   "source": [
    "param_grid = {\n",
    "    'tfidf__ngram_range': [(1,1),(1,2)],\n",
    "    'tfidf__min_df': [1,2,3],\n",
    "    'clf__alpha': [0.01, 0.1, 0.5, 1.0]\n",
    "}\n",
    "\n",
    "gs = GridSearchCV(pipeline, param_grid, cv=5, scoring='f1_weighted', n_jobs=-1, verbose=1)\n",
    "gs.fit(X_train, y_train)\n",
    "\n",
    "print(\"Best params:\", gs.best_params_)\n",
    "best = gs.best_estimator_\n",
    "y_pred = best.predict(X_test)\n",
    "print(classification_report(y_test, y_pred))\n"
   ]
  },
  {
   "cell_type": "code",
   "execution_count": 181,
   "id": "04f4f85e-e2a0-4486-82cd-1e2a1aa12846",
   "metadata": {},
   "outputs": [
    {
     "name": "stdout",
     "output_type": "stream",
     "text": [
      "Confusion matrix:\n",
      " [[966   0]\n",
      " [ 11 138]]\n"
     ]
    }
   ],
   "source": [
    "print(\"Confusion matrix:\\n\", confusion_matrix(y_test, y_pred))"
   ]
  },
  {
   "cell_type": "code",
   "execution_count": 184,
   "id": "69c90740-fb90-4895-8dc0-a23b62805f90",
   "metadata": {},
   "outputs": [
    {
     "name": "stdout",
     "output_type": "stream",
     "text": [
      "              precision    recall  f1-score   support\n",
      "\n",
      "           0       0.85      0.98      0.91      2500\n",
      "           1       0.52      0.13      0.21       500\n",
      "\n",
      "    accuracy                           0.83      3000\n",
      "   macro avg       0.68      0.55      0.56      3000\n",
      "weighted avg       0.79      0.83      0.79      3000\n",
      "\n"
     ]
    }
   ],
   "source": [
    "y_pred = best.predict(test_x)\n",
    "\n",
    "print(classification_report(test_y, y_pred))"
   ]
  },
  {
   "cell_type": "code",
   "execution_count": 190,
   "id": "14f235ce-ac1a-4995-995a-3dd44c07ec4f",
   "metadata": {},
   "outputs": [
    {
     "data": {
      "image/png": "[encoded data removed]",
      "text/plain": [
       "<Figure size 600x400 with 2 Axes>"
      ]
     },
     "metadata": {},
     "output_type": "display_data"
    }
   ],
   "source": [
    "cm = confusion_matrix(test_y, y_pred)\n",
    "labels = ['ham', 'spam']\n",
    "\n",
    "plt.figure(figsize=(6,4))\n",
    "sns.heatmap(cm, annot=True, fmt='d', xticklabels=labels, yticklabels=labels, cmap='Blues')\n",
    "plt.ylabel('Etiqueta Real')\n",
    "plt.xlabel('Etiqueta Predicha')\n",
    "plt.title('Matriz de Confusión')\n",
    "plt.show()"
   ]
  },
  {
   "cell_type": "code",
   "execution_count": 208,
   "id": "ee3c4f4f-456c-4773-bf18-d77eebb6e38d",
   "metadata": {},
   "outputs": [
    {
     "data": {
      "text/plain": [
       "0       0\n",
       "1       0\n",
       "2       0\n",
       "3       0\n",
       "4       0\n",
       "       ..\n",
       "2995    1\n",
       "2996    1\n",
       "2997    1\n",
       "2998    1\n",
       "2999    1\n",
       "Name: label, Length: 3000, dtype: int64"
      ]
     },
     "execution_count": 208,
     "metadata": {},
     "output_type": "execute_result"
    }
   ],
   "source": [
    "test_y"
   ]
  },
  {
   "cell_type": "code",
   "execution_count": 209,
   "id": "05d327a0-6763-4a93-b904-07d2c1c500f9",
   "metadata": {},
   "outputs": [
    {
     "data": {
      "image/png": "[encoded data removed]",
      "text/plain": [
       "<Figure size 600x600 with 1 Axes>"
      ]
     },
     "metadata": {},
     "output_type": "display_data"
    }
   ],
   "source": [
    "from sklearn.metrics import roc_curve, roc_auc_score\n",
    "import matplotlib.pyplot as plt\n",
    "\n",
    "#\n",
    "y_prob = best.predict_proba(test_x)[:, 1]  \n",
    "\n",
    "# Calcular puntos de la curva ROC\n",
    "fpr, tpr, thresholds = roc_curve(test_y, y_prob)\n",
    "\n",
    "# Calcular AUC (Area Under Curve)\n",
    "roc_auc = roc_auc_score(test_y, y_prob)\n",
    "\n",
    "# Graficar\n",
    "plt.figure(figsize=(6, 6))\n",
    "plt.plot(fpr, tpr, color='blue', lw=2, label=f'ROC curve (AUC = {roc_auc:.2f})')\n",
    "plt.plot([0, 1], [0, 1], color='gray', linestyle='--')  # línea aleatoria\n",
    "plt.xlabel('False Positive Rate')\n",
    "plt.ylabel('True Positive Rate')\n",
    "plt.title('Curva ROC')\n",
    "plt.legend(loc='lower right')\n",
    "plt.show()"
   ]
  },
  {
   "cell_type": "code",
   "execution_count": 65,
   "id": "9398de3c-5a8a-4093-927f-9627e1cb7d36",
   "metadata": {},
   "outputs": [
    {
     "data": {
      "text/plain": [
       "{'tfidf': TfidfVectorizer(max_df=0.95, min_df=2, ngram_range=(1, 2)),\n",
       " 'clf': MultinomialNB(alpha=0.1)}"
      ]
     },
     "execution_count": 65,
     "metadata": {},
     "output_type": "execute_result"
    }
   ],
   "source": [
    "best.named_steps"
   ]
  },
  {
   "cell_type": "markdown",
   "id": "890d1625-0fcf-4f6c-bd09-bee1f40a6e20",
   "metadata": {},
   "source": [
    "## Suport Vector Machine"
   ]
  },
  {
   "cell_type": "code",
   "execution_count": 191,
   "id": "db4785f7-d714-430e-bf29-c9f3e15a1d93",
   "metadata": {},
   "outputs": [],
   "source": [
    "pipeline_SVM = Pipeline([\n",
    "    ('tfidf', TfidfVectorizer()),\n",
    "    ('clf', LinearSVC(max_iter=5000))\n",
    "])"
   ]
  },
  {
   "cell_type": "code",
   "execution_count": 192,
   "id": "b8dd4f35-eb20-49a0-8e2a-a3a702f08d8f",
   "metadata": {},
   "outputs": [],
   "source": [
    "param_grid = {\n",
    "    'tfidf__ngram_range': [(1,1), (1,2)],\n",
    "    'tfidf__min_df': [1, 2, 3],\n",
    "    'tfidf__max_df': [0.9, 0.95, 1.0],\n",
    "    'tfidf__stop_words': [None, 'english'],\n",
    "    'clf__C': [0.01, 0.1, 1, 10]\n",
    "}\n"
   ]
  },
  {
   "cell_type": "code",
   "execution_count": 193,
   "id": "a307d8a5-9c76-4e2b-8041-68785b7f08f3",
   "metadata": {},
   "outputs": [
    {
     "name": "stdout",
     "output_type": "stream",
     "text": [
      "Fitting 5 folds for each of 144 candidates, totalling 720 fits\n",
      "Mejores parámetros: {'clf__C': 10, 'tfidf__max_df': 0.9, 'tfidf__min_df': 2, 'tfidf__ngram_range': (1, 2), 'tfidf__stop_words': None}\n",
      "Mejor score: 0.9891000114179773\n",
      "              precision    recall  f1-score   support\n",
      "\n",
      "           0       0.99      1.00      1.00       966\n",
      "           1       0.99      0.95      0.97       149\n",
      "\n",
      "    accuracy                           0.99      1115\n",
      "   macro avg       0.99      0.97      0.98      1115\n",
      "weighted avg       0.99      0.99      0.99      1115\n",
      "\n"
     ]
    }
   ],
   "source": [
    "gs = GridSearchCV(pipeline_SVM, param_grid, cv=5, scoring='f1_weighted', n_jobs=-1, verbose=2)\n",
    "gs.fit(X_train, y_train)\n",
    "\n",
    "print(\"Mejores parámetros:\", gs.best_params_)\n",
    "print(\"Mejor score:\", gs.best_score_)"
   ]
  },
  {
   "cell_type": "code",
   "execution_count": 195,
   "id": "962accda-c1f9-48be-a48b-d4ed4c0d8f74",
   "metadata": {},
   "outputs": [
    {
     "name": "stdout",
     "output_type": "stream",
     "text": [
      "              precision    recall  f1-score   support\n",
      "\n",
      "           0       0.90      0.68      0.77      2500\n",
      "           1       0.28      0.61      0.38       500\n",
      "\n",
      "    accuracy                           0.67      3000\n",
      "   macro avg       0.59      0.65      0.58      3000\n",
      "weighted avg       0.79      0.67      0.71      3000\n",
      "\n"
     ]
    }
   ],
   "source": [
    "y_pred = gs.predict(test_x)\n",
    "from sklearn.metrics import classification_report\n",
    "print(classification_report(test_y, y_pred))"
   ]
  },
  {
   "cell_type": "code",
   "execution_count": 196,
   "id": "70b47f53-7a86-4354-ba12-7c038931cbd9",
   "metadata": {},
   "outputs": [
    {
     "data": {
      "image/png": "[encoded data removed]",
      "text/plain": [
       "<Figure size 600x400 with 2 Axes>"
      ]
     },
     "metadata": {},
     "output_type": "display_data"
    }
   ],
   "source": [
    "cm = confusion_matrix(test_y, y_pred)\n",
    "labels = ['ham', 'spam']\n",
    "\n",
    "plt.figure(figsize=(6,4))\n",
    "sns.heatmap(cm, annot=True, fmt='d', xticklabels=labels, yticklabels=labels, cmap='Blues')\n",
    "plt.ylabel('Etiqueta Real')\n",
    "plt.xlabel('Etiqueta Predicha')\n",
    "plt.title('Matriz de Confusión')\n",
    "plt.show()"
   ]
  },
  {
   "cell_type": "code",
   "execution_count": 197,
   "id": "ffd7caff-2c29-4e4f-9147-e0a945fa81bf",
   "metadata": {},
   "outputs": [
    {
     "name": "stdout",
     "output_type": "stream",
     "text": [
      "              precision    recall  f1-score   support\n",
      "\n",
      "           0       0.90      0.68      0.77      2500\n",
      "           1       0.28      0.61      0.38       500\n",
      "\n",
      "    accuracy                           0.67      3000\n",
      "   macro avg       0.59      0.65      0.58      3000\n",
      "weighted avg       0.79      0.67      0.71      3000\n",
      "\n"
     ]
    }
   ],
   "source": [
    "y_pred = gs.predict(test_x)\n",
    "\n",
    "print(classification_report(test_y, y_pred))"
   ]
  },
  {
   "cell_type": "markdown",
   "id": "4ed4c67b-ee0c-44c7-873c-1f7d85122dfa",
   "metadata": {},
   "source": [
    "## individual test"
   ]
  },
  {
   "cell_type": "code",
   "execution_count": 91,
   "id": "7a64b39e-9435-4cc4-af9b-248a7bce816d",
   "metadata": {
    "jupyter": {
     "source_hidden": true
    }
   },
   "outputs": [],
   "source": [
    "spam_messages = [\n",
    "    \"Congratulations! You've won a $1,000 Walmart gift card. Click here to claim now.\",\n",
    "    \"Urgent! Your account has been compromised. Reset your password immediately at http://fakebank.com/reset\",\n",
    "    \"You have been selected for a free cruise to the Bahamas! Call 1-800-123-4567 now.\",\n",
    "    \"Earn $5000 a week from home. No experience required. Sign up today at www.easycash.com\",\n",
    "    \"Get cheap meds without prescription! Visit http://cheapmeds.example.com and save big.\",\n",
    "    \"Limited time offer! Buy one, get one free on all products. Visit www.shopnow.com\",\n",
    "    \"Act now! Last chance to secure your loan with low interest rates. Apply at www.quickloan.com\",\n",
    "    \"Work from home and make $1000 per day! Click here to start.\",\n",
    "    \"Your package is waiting for you. Confirm your address at http://tracking.fakeurl.com\",\n",
    "    \"Lowest prices on electronics! Visit www.dealsnow.com\",\n",
    "    \"Hot singles in your area are waiting to meet you! Join now!\",\n",
    "    \"Get a new credit card with zero interest. Apply today!\",\n",
    "    \"This is not a scam! Claim your inheritance now by calling 1-800-000-0000\",\n",
    "    \"Congratulations! You won a free iPhone. Click here to claim.\",\n",
    "    \"Make money fast with this simple trick. Visit www.easymoney.com\",\n",
    "    \"Save big on your car insurance. Get a free quote now.\",\n",
    "    \"Exclusive offer for you! Buy our product and get 50% off.\",\n",
    "    \"Your computer is infected! Download our free antivirus now.\",\n",
    "    \"Earn extra income without leaving your house. Sign up now!\",\n",
    "    \"You have a new voicemail. Listen now at http://voicemail.fakeurl.com\",\n",
    "    # 20\n",
    "    \"Become a millionaire in 30 days! Start now.\",\n",
    "    \"Claim your free trial today. No credit card required.\",\n",
    "    \"Get your diploma online without studying! Click here.\",\n",
    "    \"Unlock your phone for free. Visit www.unlocknow.com\",\n",
    "    \"Cheap prescription drugs available now! Order today.\",\n",
    "    \"Win big prizes with our lottery. Enter now.\",\n",
    "    \"Act fast! Limited spots available for this offer.\",\n",
    "    \"Make your ex jealous with this simple method.\",\n",
    "    \"New weight loss pill that really works. Buy now.\",\n",
    "    \"Your loan has been approved. Click here to get funds.\",\n",
    "    # 30\n",
    "    \"Invest in crypto and double your money quickly.\",\n",
    "    \"You have an unpaid invoice. Pay immediately to avoid penalties.\",\n",
    "    \"Get free gift cards by completing surveys.\",\n",
    "    \"Hot deals on luxury watches. Limited time only.\",\n",
    "    \"Claim your cash reward before it's gone.\",\n",
    "    \"Your account will be suspended unless verified now.\",\n",
    "    \"Special discount on all your favorite brands.\",\n",
    "    \"Earn money playing games online. Join free today.\",\n",
    "    \"Congratulations! You're pre-approved for a credit increase.\",\n",
    "    \"New miracle cream for flawless skin. Order now.\",\n",
    "    # 40\n",
    "    \"Your tax refund is ready. Submit your details.\",\n",
    "    \"Exclusive membership offer. Join today and save.\",\n",
    "    \"Work at home and earn thousands monthly.\",\n",
    "    \"Limited time: Free shipping on all orders.\",\n",
    "    \"Claim your prize by clicking the link.\",\n",
    "    \"You won a free vacation package. Act now!\",\n",
    "    \"Get your free credit report instantly.\",\n",
    "    \"Buy now and get an extra gift for free.\",\n",
    "    \"Your device warranty has expired. Renew now.\",\n",
    "    \"Make money fast with this secret method.\",\n",
    "    # 50\n",
    "    \"Get paid to watch videos online.\",\n",
    "    \"Lose weight without dieting. Try our product.\",\n",
    "    \"You are selected for a special bonus. Claim now.\",\n",
    "    \"New software can make you rich overnight.\",\n",
    "    \"Your package delivery failed. Reschedule now.\",\n",
    "    \"Get a personal loan with low interest rates.\",\n",
    "    \"Earn passive income from home easily.\",\n",
    "    \"Limited offer: Save 70% on all electronics.\",\n",
    "    \"Exclusive deals for new customers only.\",\n",
    "    \"Win a free tablet by entering the contest.\",\n",
    "    # 60\n",
    "    \"Your bank account is at risk. Verify immediately.\",\n",
    "    \"Make $1000 per day working online.\",\n",
    "    \"Free membership for a limited time.\",\n",
    "    \"Click here to unlock exclusive content.\",\n",
    "    \"You have won a brand new car!\",\n",
    "    \"Get rid of bad credit fast. Apply now.\",\n",
    "    \"Hot singles want to chat with you now!\",\n",
    "    \"Special promotion ends today. Don't miss out.\",\n",
    "    \"Make money with no investment required.\",\n",
    "    \"Your social security number has been compromised.\",\n",
    "    # 70\n",
    "    \"Download free music and movies here.\",\n",
    "    \"Act now to receive your bonus gift card.\",\n",
    "    \"This offer expires soon. Claim yours today.\",\n",
    "    \"Join millions earning money from home.\",\n",
    "    \"New breakthrough pill guarantees weight loss.\",\n",
    "    \"Congratulations! You qualify for a free gift.\",\n",
    "    \"Your loan application has been approved.\",\n",
    "    \"Get cash advances with no credit check.\",\n",
    "    \"Limited time offer: Get 2 for the price of 1.\",\n",
    "    \"Claim your free samples now.\",\n",
    "    # 80\n",
    "    \"Earn cash fast with our affiliate program.\",\n",
    "    \"Your account is locked due to suspicious activity.\",\n",
    "    \"Get paid for your opinions. Sign up today.\",\n",
    "    \"Special discount for loyal customers.\",\n",
    "    \"Win big with our online casino. Play now.\",\n",
    "    \"Make money without leaving your home.\",\n",
    "    \"Congratulations! You have a pending refund.\",\n",
    "    \"Exclusive access to premium content. Subscribe now.\",\n",
    "    \"Get rich quick with this amazing opportunity.\",\n",
    "    \"Your subscription has been renewed successfully.\",\n",
    "    # 90\n",
    "    \"Work from home jobs available now.\",\n",
    "    \"Get free tickets to concerts and events.\",\n",
    "    \"New credit card offers just for you.\",\n",
    "    \"Download our app to save money instantly.\",\n",
    "    \"Make money trading stocks easily.\",\n",
    "    \"Claim your prize before time runs out.\",\n",
    "    \"Get a refund for your last purchase.\",\n",
    "    \"Your email has been selected for a prize.\",\n",
    "    \"Free entry to sweepstakes. Enter today.\",\n",
    "    \"Limited offer: Upgrade your account now.\"\n",
    "]\n"
   ]
  },
  {
   "cell_type": "code",
   "execution_count": 158,
   "id": "abc4eca6-6ee0-4755-b4b7-2def876fbca0",
   "metadata": {
    "jupyter": {
     "source_hidden": true
    }
   },
   "outputs": [],
   "source": [
    "predicciones = []\n",
    "for i in spam_messages:\n",
    "    clean_work = clean_text(i)\n",
    "    # El método predict espera una lista o array de textos\n",
    "    prediccion = best.predict([clean_work])\n",
    "    predicciones.append( prediccion[0])\n"
   ]
  },
  {
   "cell_type": "code",
   "execution_count": 159,
   "id": "8add9645-6069-4a02-b55f-06b90e037a6e",
   "metadata": {},
   "outputs": [
    {
     "data": {
      "text/plain": [
       "41"
      ]
     },
     "execution_count": 159,
     "metadata": {},
     "output_type": "execute_result"
    }
   ],
   "source": [
    "spam_count"
   ]
  },
  {
   "cell_type": "code",
   "execution_count": 188,
   "id": "57e30997-1a32-40ed-a986-69afebe0460a",
   "metadata": {},
   "outputs": [
    {
     "name": "stdout",
     "output_type": "stream",
     "text": [
      "0.59\n"
     ]
    }
   ],
   "source": [
    "total = len(predicciones)\n",
    "spam_count = predicciones.count(0)\n",
    "result = spam_count / total\n",
    "\n",
    "print(result)\n"
   ]
  },
  {
   "cell_type": "code",
   "execution_count": null,
   "id": "08634317-a27e-40e8-aba5-47a999449b6e",
   "metadata": {},
   "outputs": [],
   "source": []
  }
 ],
 "metadata": {
  "kernelspec": {
   "display_name": "Python 3 (ipykernel)",
   "language": "python",
   "name": "python3"
  },
  "language_info": {
   "codemirror_mode": {
    "name": "ipython",
    "version": 3
   },
   "file_extension": ".py",
   "mimetype": "text/x-python",
   "name": "python",
   "nbconvert_exporter": "python",
   "pygments_lexer": "ipython3",
   "version": "3.12.5"
  }
 },
 "nbformat": 4,
 "nbformat_minor": 5
}
